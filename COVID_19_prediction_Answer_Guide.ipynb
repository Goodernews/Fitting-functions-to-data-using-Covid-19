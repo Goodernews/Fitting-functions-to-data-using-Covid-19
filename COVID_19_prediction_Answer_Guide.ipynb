{
  "nbformat": 4,
  "nbformat_minor": 0,
  "metadata": {
    "colab": {
      "name": "COVID-19 prediction Answer Guide",
      "provenance": []
    },
    "kernelspec": {
      "name": "python3",
      "display_name": "Python 3"
    },
    "widgets": {
      "application/vnd.jupyter.widget-state+json": {
        "ee03475002d1473aab8f004d337c7ebf": {
          "model_module": "@jupyter-widgets/controls",
          "model_name": "VBoxModel",
          "state": {
            "_view_name": "VBoxView",
            "_dom_classes": [
              "widget-interact"
            ],
            "_model_name": "VBoxModel",
            "_view_module": "@jupyter-widgets/controls",
            "_model_module_version": "1.5.0",
            "_view_count": null,
            "_view_module_version": "1.5.0",
            "box_style": "",
            "layout": "IPY_MODEL_e488cfe36e5b401894946e6ef9423337",
            "_model_module": "@jupyter-widgets/controls",
            "children": [
              "IPY_MODEL_429ed32eb0984e40800d0b231bdfa77f",
              "IPY_MODEL_bd81100b1c7e4de98b8825f1b050e1fe",
              "IPY_MODEL_da4f6549848945a6bd57f63b710b1fbb",
              "IPY_MODEL_39c1ca244de842858839e137472584e1"
            ]
          }
        },
        "e488cfe36e5b401894946e6ef9423337": {
          "model_module": "@jupyter-widgets/base",
          "model_name": "LayoutModel",
          "state": {
            "_view_name": "LayoutView",
            "grid_template_rows": null,
            "right": null,
            "justify_content": null,
            "_view_module": "@jupyter-widgets/base",
            "overflow": null,
            "_model_module_version": "1.2.0",
            "_view_count": null,
            "flex_flow": null,
            "width": null,
            "min_width": null,
            "border": null,
            "align_items": null,
            "bottom": null,
            "_model_module": "@jupyter-widgets/base",
            "top": null,
            "grid_column": null,
            "overflow_y": null,
            "overflow_x": null,
            "grid_auto_flow": null,
            "grid_area": null,
            "grid_template_columns": null,
            "flex": null,
            "_model_name": "LayoutModel",
            "justify_items": null,
            "grid_row": null,
            "max_height": null,
            "align_content": null,
            "visibility": null,
            "align_self": null,
            "height": null,
            "min_height": null,
            "padding": null,
            "grid_auto_rows": null,
            "grid_gap": null,
            "max_width": null,
            "order": null,
            "_view_module_version": "1.2.0",
            "grid_template_areas": null,
            "object_position": null,
            "object_fit": null,
            "grid_auto_columns": null,
            "margin": null,
            "display": null,
            "left": null
          }
        },
        "429ed32eb0984e40800d0b231bdfa77f": {
          "model_module": "@jupyter-widgets/controls",
          "model_name": "IntSliderModel",
          "state": {
            "_view_name": "IntSliderView",
            "style": "IPY_MODEL_0f0de7790d39410cbad13fd8ca850560",
            "_dom_classes": [],
            "description": "a",
            "step": 1,
            "_model_name": "IntSliderModel",
            "orientation": "horizontal",
            "max": 3000,
            "_view_module": "@jupyter-widgets/controls",
            "_model_module_version": "1.5.0",
            "value": 2500,
            "_view_count": null,
            "disabled": false,
            "_view_module_version": "1.5.0",
            "min": 2000,
            "continuous_update": true,
            "readout_format": "d",
            "description_tooltip": null,
            "readout": true,
            "_model_module": "@jupyter-widgets/controls",
            "layout": "IPY_MODEL_d889023313dc4cffab14af733611803d"
          }
        },
        "bd81100b1c7e4de98b8825f1b050e1fe": {
          "model_module": "@jupyter-widgets/controls",
          "model_name": "IntSliderModel",
          "state": {
            "_view_name": "IntSliderView",
            "style": "IPY_MODEL_e4ccfe8655004e4592fb37258815a5a1",
            "_dom_classes": [],
            "description": "b",
            "step": 1,
            "_model_name": "IntSliderModel",
            "orientation": "horizontal",
            "max": 100,
            "_view_module": "@jupyter-widgets/controls",
            "_model_module_version": "1.5.0",
            "value": 86,
            "_view_count": null,
            "disabled": false,
            "_view_module_version": "1.5.0",
            "min": 60,
            "continuous_update": true,
            "readout_format": "d",
            "description_tooltip": null,
            "readout": true,
            "_model_module": "@jupyter-widgets/controls",
            "layout": "IPY_MODEL_eb72ffe824a74f01adda6e7eaca7ad22"
          }
        },
        "da4f6549848945a6bd57f63b710b1fbb": {
          "model_module": "@jupyter-widgets/controls",
          "model_name": "FloatSliderModel",
          "state": {
            "_view_name": "FloatSliderView",
            "style": "IPY_MODEL_d69865b4ebd44eefb3c96d9fa705fe79",
            "_dom_classes": [],
            "description": "c",
            "step": 0.1,
            "_model_name": "FloatSliderModel",
            "orientation": "horizontal",
            "max": 7,
            "_view_module": "@jupyter-widgets/controls",
            "_model_module_version": "1.5.0",
            "value": 3,
            "_view_count": null,
            "disabled": false,
            "_view_module_version": "1.5.0",
            "min": 0,
            "continuous_update": true,
            "readout_format": ".2f",
            "description_tooltip": null,
            "readout": true,
            "_model_module": "@jupyter-widgets/controls",
            "layout": "IPY_MODEL_200ee0ab496a44b1afd8cecf816dba9f"
          }
        },
        "39c1ca244de842858839e137472584e1": {
          "model_module": "@jupyter-widgets/output",
          "model_name": "OutputModel",
          "state": {
            "_view_name": "OutputView",
            "msg_id": "",
            "_dom_classes": [],
            "_model_name": "OutputModel",
            "outputs": [
              {
                "output_type": "display_data",
                "metadata": {
                  "tags": [],
                  "needs_background": "light"
                },
                "image/png": "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\n",
                "text/plain": "<Figure size 432x288 with 1 Axes>"
              },
              {
                "output_type": "stream",
                "metadata": {
                  "tags": []
                },
                "text": "R2 score of: 0.7870729\nMean absolute error:  186.34\n",
                "stream": "stdout"
              }
            ],
            "_view_module": "@jupyter-widgets/output",
            "_model_module_version": "1.0.0",
            "_view_count": null,
            "_view_module_version": "1.0.0",
            "layout": "IPY_MODEL_ec749cab3bf648b8a6e1b297336dac67",
            "_model_module": "@jupyter-widgets/output"
          }
        },
        "0f0de7790d39410cbad13fd8ca850560": {
          "model_module": "@jupyter-widgets/controls",
          "model_name": "SliderStyleModel",
          "state": {
            "_view_name": "StyleView",
            "handle_color": null,
            "_model_name": "SliderStyleModel",
            "description_width": "",
            "_view_module": "@jupyter-widgets/base",
            "_model_module_version": "1.5.0",
            "_view_count": null,
            "_view_module_version": "1.2.0",
            "_model_module": "@jupyter-widgets/controls"
          }
        },
        "d889023313dc4cffab14af733611803d": {
          "model_module": "@jupyter-widgets/base",
          "model_name": "LayoutModel",
          "state": {
            "_view_name": "LayoutView",
            "grid_template_rows": null,
            "right": null,
            "justify_content": null,
            "_view_module": "@jupyter-widgets/base",
            "overflow": null,
            "_model_module_version": "1.2.0",
            "_view_count": null,
            "flex_flow": null,
            "width": null,
            "min_width": null,
            "border": null,
            "align_items": null,
            "bottom": null,
            "_model_module": "@jupyter-widgets/base",
            "top": null,
            "grid_column": null,
            "overflow_y": null,
            "overflow_x": null,
            "grid_auto_flow": null,
            "grid_area": null,
            "grid_template_columns": null,
            "flex": null,
            "_model_name": "LayoutModel",
            "justify_items": null,
            "grid_row": null,
            "max_height": null,
            "align_content": null,
            "visibility": null,
            "align_self": null,
            "height": null,
            "min_height": null,
            "padding": null,
            "grid_auto_rows": null,
            "grid_gap": null,
            "max_width": null,
            "order": null,
            "_view_module_version": "1.2.0",
            "grid_template_areas": null,
            "object_position": null,
            "object_fit": null,
            "grid_auto_columns": null,
            "margin": null,
            "display": null,
            "left": null
          }
        },
        "e4ccfe8655004e4592fb37258815a5a1": {
          "model_module": "@jupyter-widgets/controls",
          "model_name": "SliderStyleModel",
          "state": {
            "_view_name": "StyleView",
            "handle_color": null,
            "_model_name": "SliderStyleModel",
            "description_width": "",
            "_view_module": "@jupyter-widgets/base",
            "_model_module_version": "1.5.0",
            "_view_count": null,
            "_view_module_version": "1.2.0",
            "_model_module": "@jupyter-widgets/controls"
          }
        },
        "eb72ffe824a74f01adda6e7eaca7ad22": {
          "model_module": "@jupyter-widgets/base",
          "model_name": "LayoutModel",
          "state": {
            "_view_name": "LayoutView",
            "grid_template_rows": null,
            "right": null,
            "justify_content": null,
            "_view_module": "@jupyter-widgets/base",
            "overflow": null,
            "_model_module_version": "1.2.0",
            "_view_count": null,
            "flex_flow": null,
            "width": null,
            "min_width": null,
            "border": null,
            "align_items": null,
            "bottom": null,
            "_model_module": "@jupyter-widgets/base",
            "top": null,
            "grid_column": null,
            "overflow_y": null,
            "overflow_x": null,
            "grid_auto_flow": null,
            "grid_area": null,
            "grid_template_columns": null,
            "flex": null,
            "_model_name": "LayoutModel",
            "justify_items": null,
            "grid_row": null,
            "max_height": null,
            "align_content": null,
            "visibility": null,
            "align_self": null,
            "height": null,
            "min_height": null,
            "padding": null,
            "grid_auto_rows": null,
            "grid_gap": null,
            "max_width": null,
            "order": null,
            "_view_module_version": "1.2.0",
            "grid_template_areas": null,
            "object_position": null,
            "object_fit": null,
            "grid_auto_columns": null,
            "margin": null,
            "display": null,
            "left": null
          }
        },
        "d69865b4ebd44eefb3c96d9fa705fe79": {
          "model_module": "@jupyter-widgets/controls",
          "model_name": "SliderStyleModel",
          "state": {
            "_view_name": "StyleView",
            "handle_color": null,
            "_model_name": "SliderStyleModel",
            "description_width": "",
            "_view_module": "@jupyter-widgets/base",
            "_model_module_version": "1.5.0",
            "_view_count": null,
            "_view_module_version": "1.2.0",
            "_model_module": "@jupyter-widgets/controls"
          }
        },
        "200ee0ab496a44b1afd8cecf816dba9f": {
          "model_module": "@jupyter-widgets/base",
          "model_name": "LayoutModel",
          "state": {
            "_view_name": "LayoutView",
            "grid_template_rows": null,
            "right": null,
            "justify_content": null,
            "_view_module": "@jupyter-widgets/base",
            "overflow": null,
            "_model_module_version": "1.2.0",
            "_view_count": null,
            "flex_flow": null,
            "width": null,
            "min_width": null,
            "border": null,
            "align_items": null,
            "bottom": null,
            "_model_module": "@jupyter-widgets/base",
            "top": null,
            "grid_column": null,
            "overflow_y": null,
            "overflow_x": null,
            "grid_auto_flow": null,
            "grid_area": null,
            "grid_template_columns": null,
            "flex": null,
            "_model_name": "LayoutModel",
            "justify_items": null,
            "grid_row": null,
            "max_height": null,
            "align_content": null,
            "visibility": null,
            "align_self": null,
            "height": null,
            "min_height": null,
            "padding": null,
            "grid_auto_rows": null,
            "grid_gap": null,
            "max_width": null,
            "order": null,
            "_view_module_version": "1.2.0",
            "grid_template_areas": null,
            "object_position": null,
            "object_fit": null,
            "grid_auto_columns": null,
            "margin": null,
            "display": null,
            "left": null
          }
        },
        "ec749cab3bf648b8a6e1b297336dac67": {
          "model_module": "@jupyter-widgets/base",
          "model_name": "LayoutModel",
          "state": {
            "_view_name": "LayoutView",
            "grid_template_rows": null,
            "right": null,
            "justify_content": null,
            "_view_module": "@jupyter-widgets/base",
            "overflow": null,
            "_model_module_version": "1.2.0",
            "_view_count": null,
            "flex_flow": null,
            "width": null,
            "min_width": null,
            "border": null,
            "align_items": null,
            "bottom": null,
            "_model_module": "@jupyter-widgets/base",
            "top": null,
            "grid_column": null,
            "overflow_y": null,
            "overflow_x": null,
            "grid_auto_flow": null,
            "grid_area": null,
            "grid_template_columns": null,
            "flex": null,
            "_model_name": "LayoutModel",
            "justify_items": null,
            "grid_row": null,
            "max_height": null,
            "align_content": null,
            "visibility": null,
            "align_self": null,
            "height": null,
            "min_height": null,
            "padding": null,
            "grid_auto_rows": null,
            "grid_gap": null,
            "max_width": null,
            "order": null,
            "_view_module_version": "1.2.0",
            "grid_template_areas": null,
            "object_position": null,
            "object_fit": null,
            "grid_auto_columns": null,
            "margin": null,
            "display": null,
            "left": null
          }
        }
      }
    }
  },
  "cells": [
    {
      "cell_type": "markdown",
      "metadata": {
        "id": "eqZ6oBHwVKfy",
        "colab_type": "text"
      },
      "source": [
        "#Introduction to Fitting Data to Functions using COVID-19\n",
        "\n",
        "***IMPORTANT NOTE:*** *This project was created in April 2020, to ensure consistent answers in grading and fit the number of data points was reduced to 88. This means that the data imported ONLY covers between January 21st and April 18th. As such this should NOT be used to make any generalizations.*\n",
        "\n",
        "\n",
        "---\n",
        "\n"
      ]
    },
    {
      "cell_type": "markdown",
      "metadata": {
        "id": "pboqYwh2o7cP",
        "colab_type": "text"
      },
      "source": [
        "#Intial setup"
      ]
    },
    {
      "cell_type": "code",
      "metadata": {
        "id": "lNLB_nR8oDZn",
        "colab_type": "code",
        "cellView": "form",
        "colab": {
          "base_uri": "https://localhost:8080/",
          "height": 105
        },
        "outputId": "a0ed4edb-6c0c-4457-b33a-8deb3537ce8e"
      },
      "source": [
        "#@title Import libraries\n",
        "import numpy as np\n",
        "from datascience import *\n",
        "import pandas as pd\n",
        "import io\n",
        "import requests\n",
        "import matplotlib.pyplot as plt\n",
        "import sklearn\n",
        "from datetime import date, timedelta\n",
        "import ipywidgets as widgets\n",
        "from sklearn import linear_model\n",
        "from scipy.special import expit\n",
        "import scipy.optimize as opt\n",
        "import math\n",
        "from __future__ import print_function\n",
        "from ipywidgets import interact, interactive, fixed, interact_manual\n",
        "import ipywidgets as widgets\n",
        "%matplotlib inline\n",
        "\n",
        "\n",
        "def logistic_info(a, b, c): # displays the textbox next to the graph\n",
        "  text = '\\n'.join((\n",
        "    r'$\\mathrm{Logistic \\ Equation: \\ } \\frac{a}{1+e^{-b(x-c)}}}$',\n",
        "    r'$\\mathrm{f(x)}= \\frac{%.1f}{1+e^{-%.2f(x-%.2f)}}} $' % (a, b, c, ),\n",
        "    r'$\\mathrm{a}=%.1f$' % (a, ),\n",
        "    r'$\\mathrm{b}=%.3f$' % (b, ),\n",
        "    r'$\\mathrm{c}=%.3f$' % (c, )))\n",
        "  return text\n",
        "\n",
        "def logistic(x, a, b, c):\n",
        "  return a / (1. + np.exp(-b * (x - c)))\n",
        "\n",
        "def gauss_info(a, b, c): # displays the textbox next to the graph\n",
        "  text = '\\n'.join((\n",
        "    r'$\\mathrm{Gaussian \\ Equation: \\ } a \\cdot e^{-(\\frac{(x-b)}{4c})^2}$',\n",
        "    r'$\\mathrm{f(x)}=%.3f \\cdot e^{-\\frac{(x-%.1f)^2}{2 \\cdot %.3f ^2}}$' % (a, b, c, ),\n",
        "    r'$\\mathrm{a}=%.3f$' % (a, ),\n",
        "    r'$\\mathrm{b}=%.1f$' % (b, ),\n",
        "    r'$\\mathrm{c}=%.3f$' % (c, )))\n",
        "  return text\n",
        "\n",
        "def gauss(x, amplitude, mean, stddev):\n",
        "    return amplitude * np.exp(-((x - mean) / 4 / stddev)**2)\n",
        "\n",
        "\n"
      ],
      "execution_count": null,
      "outputs": [
        {
          "output_type": "stream",
          "text": [
            "/usr/local/lib/python3.6/dist-packages/datascience/tables.py:17: MatplotlibDeprecationWarning: The 'warn' parameter of use() is deprecated since Matplotlib 3.1 and will be removed in 3.3.  If any parameter follows 'warn', they should be pass as keyword, not positionally.\n",
            "  matplotlib.use('agg', warn=False)\n",
            "/usr/local/lib/python3.6/dist-packages/datascience/util.py:10: MatplotlibDeprecationWarning: The 'warn' parameter of use() is deprecated since Matplotlib 3.1 and will be removed in 3.3.  If any parameter follows 'warn', they should be pass as keyword, not positionally.\n",
            "  matplotlib.use('agg', warn=False)\n"
          ],
          "name": "stderr"
        }
      ]
    },
    {
      "cell_type": "code",
      "metadata": {
        "id": "P5DtkngjDq8R",
        "colab_type": "code",
        "cellView": "form",
        "colab": {
          "base_uri": "https://localhost:8080/",
          "height": 388
        },
        "outputId": "2db8e285-7c54-4f43-82e2-2c1f6644c908"
      },
      "source": [
        "#@title Import National data\n",
        "#@markdown [Github with data](https://github.com/nytimes/covid-19-data)\n",
        "\n",
        "#@markdown This imports the data from the google sheet to the table `covid_19`\n",
        "\n",
        "\n",
        "df = pd.read_csv(\"https://raw.githubusercontent.com/nytimes/covid-19-data/master/us.csv\") #gets the data from the web and puts it in a panda table\n",
        "\n",
        "covid_19 = Table.from_df(df.head(80)) #transfers panda table into a datascience table\n",
        "covid_19"
      ],
      "execution_count": null,
      "outputs": [
        {
          "output_type": "execute_result",
          "data": {
            "text/html": [
              "<table border=\"1\" class=\"dataframe\">\n",
              "    <thead>\n",
              "        <tr>\n",
              "            <th>date</th> <th>cases</th> <th>deaths</th>\n",
              "        </tr>\n",
              "    </thead>\n",
              "    <tbody>\n",
              "        <tr>\n",
              "            <td>2020-01-21</td> <td>1    </td> <td>0     </td>\n",
              "        </tr>\n",
              "        <tr>\n",
              "            <td>2020-01-22</td> <td>1    </td> <td>0     </td>\n",
              "        </tr>\n",
              "        <tr>\n",
              "            <td>2020-01-23</td> <td>1    </td> <td>0     </td>\n",
              "        </tr>\n",
              "        <tr>\n",
              "            <td>2020-01-24</td> <td>2    </td> <td>0     </td>\n",
              "        </tr>\n",
              "        <tr>\n",
              "            <td>2020-01-25</td> <td>3    </td> <td>0     </td>\n",
              "        </tr>\n",
              "        <tr>\n",
              "            <td>2020-01-26</td> <td>5    </td> <td>0     </td>\n",
              "        </tr>\n",
              "        <tr>\n",
              "            <td>2020-01-27</td> <td>5    </td> <td>0     </td>\n",
              "        </tr>\n",
              "        <tr>\n",
              "            <td>2020-01-28</td> <td>5    </td> <td>0     </td>\n",
              "        </tr>\n",
              "        <tr>\n",
              "            <td>2020-01-29</td> <td>5    </td> <td>0     </td>\n",
              "        </tr>\n",
              "        <tr>\n",
              "            <td>2020-01-30</td> <td>6    </td> <td>0     </td>\n",
              "        </tr>\n",
              "    </tbody>\n",
              "</table>\n",
              "<p>... (70 rows omitted)</p>"
            ],
            "text/plain": [
              "date       | cases | deaths\n",
              "2020-01-21 | 1     | 0\n",
              "2020-01-22 | 1     | 0\n",
              "2020-01-23 | 1     | 0\n",
              "2020-01-24 | 2     | 0\n",
              "2020-01-25 | 3     | 0\n",
              "2020-01-26 | 5     | 0\n",
              "2020-01-27 | 5     | 0\n",
              "2020-01-28 | 5     | 0\n",
              "2020-01-29 | 5     | 0\n",
              "2020-01-30 | 6     | 0\n",
              "... (70 rows omitted)"
            ]
          },
          "metadata": {
            "tags": []
          },
          "execution_count": 2
        }
      ]
    },
    {
      "cell_type": "markdown",
      "metadata": {
        "id": "gJh2PRgF8K_i",
        "colab_type": "text"
      },
      "source": [
        "#Add columns to the table\n",
        "\n",
        "The table is lacking in a few columns: Days since first case, change in cases per day, change in deaths between days."
      ]
    },
    {
      "cell_type": "markdown",
      "metadata": {
        "id": "cD2AKYZs4oT6",
        "colab_type": "text"
      },
      "source": [
        "##Create a column for days since 1/21\n",
        "As you may notice, there is not a column for days since the first reported national case, add a "
      ]
    },
    {
      "cell_type": "code",
      "metadata": {
        "id": "TioICjrC5MzH",
        "colab_type": "code",
        "colab": {
          "base_uri": "https://localhost:8080/",
          "height": 383
        },
        "outputId": "c77ba01a-8717-406e-9d87-c28fa241b8a9"
      },
      "source": [
        "array_of_days = np.arange(covid_19.num_rows)\n",
        "\n",
        "covid_19 = covid_19.with_column(\"Days since first case\", array_of_days)\n",
        "covid_19"
      ],
      "execution_count": null,
      "outputs": [
        {
          "output_type": "execute_result",
          "data": {
            "text/html": [
              "<table border=\"1\" class=\"dataframe\">\n",
              "    <thead>\n",
              "        <tr>\n",
              "            <th>date</th> <th>cases</th> <th>deaths</th> <th>Days since first case</th>\n",
              "        </tr>\n",
              "    </thead>\n",
              "    <tbody>\n",
              "        <tr>\n",
              "            <td>2020-01-21</td> <td>1    </td> <td>0     </td> <td>0                    </td>\n",
              "        </tr>\n",
              "        <tr>\n",
              "            <td>2020-01-22</td> <td>1    </td> <td>0     </td> <td>1                    </td>\n",
              "        </tr>\n",
              "        <tr>\n",
              "            <td>2020-01-23</td> <td>1    </td> <td>0     </td> <td>2                    </td>\n",
              "        </tr>\n",
              "        <tr>\n",
              "            <td>2020-01-24</td> <td>2    </td> <td>0     </td> <td>3                    </td>\n",
              "        </tr>\n",
              "        <tr>\n",
              "            <td>2020-01-25</td> <td>3    </td> <td>0     </td> <td>4                    </td>\n",
              "        </tr>\n",
              "        <tr>\n",
              "            <td>2020-01-26</td> <td>5    </td> <td>0     </td> <td>5                    </td>\n",
              "        </tr>\n",
              "        <tr>\n",
              "            <td>2020-01-27</td> <td>5    </td> <td>0     </td> <td>6                    </td>\n",
              "        </tr>\n",
              "        <tr>\n",
              "            <td>2020-01-28</td> <td>5    </td> <td>0     </td> <td>7                    </td>\n",
              "        </tr>\n",
              "        <tr>\n",
              "            <td>2020-01-29</td> <td>5    </td> <td>0     </td> <td>8                    </td>\n",
              "        </tr>\n",
              "        <tr>\n",
              "            <td>2020-01-30</td> <td>6    </td> <td>0     </td> <td>9                    </td>\n",
              "        </tr>\n",
              "    </tbody>\n",
              "</table>\n",
              "<p>... (94 rows omitted)</p>"
            ],
            "text/plain": [
              "date       | cases | deaths | Days since first case\n",
              "2020-01-21 | 1     | 0      | 0\n",
              "2020-01-22 | 1     | 0      | 1\n",
              "2020-01-23 | 1     | 0      | 2\n",
              "2020-01-24 | 2     | 0      | 3\n",
              "2020-01-25 | 3     | 0      | 4\n",
              "2020-01-26 | 5     | 0      | 5\n",
              "2020-01-27 | 5     | 0      | 6\n",
              "2020-01-28 | 5     | 0      | 7\n",
              "2020-01-29 | 5     | 0      | 8\n",
              "2020-01-30 | 6     | 0      | 9\n",
              "... (94 rows omitted)"
            ]
          },
          "metadata": {
            "tags": []
          },
          "execution_count": 3
        }
      ]
    },
    {
      "cell_type": "markdown",
      "metadata": {
        "id": "oVEhomV75Q4Z",
        "colab_type": "text"
      },
      "source": [
        "##Change in cases per day\n",
        "\n",
        "You will need to use the function [np.diff()](https://docs.scipy.org/doc/numpy/reference/generated/numpy.diff.html)\n",
        "\n",
        "`np.diff()` takes an array and returns the value of the difference, for example:\n",
        "\n",
        "\n",
        "**Input**\n",
        "\n",
        "`example_array = np.array([0, 5, 10, 12, 7, 9])` \n",
        "\n",
        "`np.diff(example)`\n",
        "\n",
        "**Output**\n",
        "\n",
        "`array([ 5,  5,  2, -5,  2])`\n",
        "\n",
        "**Important note:** *you will need to add a zero to the beggining of your array. That is done with* `np.insert()`\n"
      ]
    },
    {
      "cell_type": "code",
      "metadata": {
        "id": "JDYW20vx9T_e",
        "colab_type": "code",
        "colab": {
          "base_uri": "https://localhost:8080/",
          "height": 383
        },
        "outputId": "d7167262-fdd8-4ff6-d991-ba4c8e3519ef"
      },
      "source": [
        "diff_cases = np.diff(covid_19[\"cases\"]) #see above\n",
        "\n",
        "#edit only the above\n",
        "diff_cases = np.insert(diff_cases, 0, 0)\n",
        "covid_19 = covid_19.with_column(\"Change in cases\", diff_cases)\n",
        "covid_19"
      ],
      "execution_count": null,
      "outputs": [
        {
          "output_type": "execute_result",
          "data": {
            "text/html": [
              "<table border=\"1\" class=\"dataframe\">\n",
              "    <thead>\n",
              "        <tr>\n",
              "            <th>date</th> <th>cases</th> <th>deaths</th> <th>Days since first case</th> <th>Change in cases</th>\n",
              "        </tr>\n",
              "    </thead>\n",
              "    <tbody>\n",
              "        <tr>\n",
              "            <td>2020-01-21</td> <td>1    </td> <td>0     </td> <td>0                    </td> <td>0              </td>\n",
              "        </tr>\n",
              "        <tr>\n",
              "            <td>2020-01-22</td> <td>1    </td> <td>0     </td> <td>1                    </td> <td>0              </td>\n",
              "        </tr>\n",
              "        <tr>\n",
              "            <td>2020-01-23</td> <td>1    </td> <td>0     </td> <td>2                    </td> <td>0              </td>\n",
              "        </tr>\n",
              "        <tr>\n",
              "            <td>2020-01-24</td> <td>2    </td> <td>0     </td> <td>3                    </td> <td>1              </td>\n",
              "        </tr>\n",
              "        <tr>\n",
              "            <td>2020-01-25</td> <td>3    </td> <td>0     </td> <td>4                    </td> <td>1              </td>\n",
              "        </tr>\n",
              "        <tr>\n",
              "            <td>2020-01-26</td> <td>5    </td> <td>0     </td> <td>5                    </td> <td>2              </td>\n",
              "        </tr>\n",
              "        <tr>\n",
              "            <td>2020-01-27</td> <td>5    </td> <td>0     </td> <td>6                    </td> <td>0              </td>\n",
              "        </tr>\n",
              "        <tr>\n",
              "            <td>2020-01-28</td> <td>5    </td> <td>0     </td> <td>7                    </td> <td>0              </td>\n",
              "        </tr>\n",
              "        <tr>\n",
              "            <td>2020-01-29</td> <td>5    </td> <td>0     </td> <td>8                    </td> <td>0              </td>\n",
              "        </tr>\n",
              "        <tr>\n",
              "            <td>2020-01-30</td> <td>6    </td> <td>0     </td> <td>9                    </td> <td>1              </td>\n",
              "        </tr>\n",
              "    </tbody>\n",
              "</table>\n",
              "<p>... (94 rows omitted)</p>"
            ],
            "text/plain": [
              "date       | cases | deaths | Days since first case | Change in cases\n",
              "2020-01-21 | 1     | 0      | 0                     | 0\n",
              "2020-01-22 | 1     | 0      | 1                     | 0\n",
              "2020-01-23 | 1     | 0      | 2                     | 0\n",
              "2020-01-24 | 2     | 0      | 3                     | 1\n",
              "2020-01-25 | 3     | 0      | 4                     | 1\n",
              "2020-01-26 | 5     | 0      | 5                     | 2\n",
              "2020-01-27 | 5     | 0      | 6                     | 0\n",
              "2020-01-28 | 5     | 0      | 7                     | 0\n",
              "2020-01-29 | 5     | 0      | 8                     | 0\n",
              "2020-01-30 | 6     | 0      | 9                     | 1\n",
              "... (94 rows omitted)"
            ]
          },
          "metadata": {
            "tags": []
          },
          "execution_count": 4
        }
      ]
    },
    {
      "cell_type": "markdown",
      "metadata": {
        "id": "TMI6HX-_8B11",
        "colab_type": "text"
      },
      "source": [
        "##Change in deaths per day"
      ]
    },
    {
      "cell_type": "code",
      "metadata": {
        "id": "axT6_Bgy9UmW",
        "colab_type": "code",
        "colab": {
          "base_uri": "https://localhost:8080/",
          "height": 383
        },
        "outputId": "3993dc1f-0b1f-45ce-966c-82c956b133eb"
      },
      "source": [
        "diff_deaths = np.diff(covid_19[\"deaths\"]) #see above\n",
        "\n",
        "#edit above\n",
        "diff_deaths = np.insert(diff_deaths, 0, 0)\n",
        "covid_19 = covid_19.with_column(\"Change in deaths\", diff_deaths)\n",
        "covid_19"
      ],
      "execution_count": null,
      "outputs": [
        {
          "output_type": "execute_result",
          "data": {
            "text/html": [
              "<table border=\"1\" class=\"dataframe\">\n",
              "    <thead>\n",
              "        <tr>\n",
              "            <th>date</th> <th>cases</th> <th>deaths</th> <th>Days since first case</th> <th>Change in cases</th> <th>Change in deaths</th>\n",
              "        </tr>\n",
              "    </thead>\n",
              "    <tbody>\n",
              "        <tr>\n",
              "            <td>2020-01-21</td> <td>1    </td> <td>0     </td> <td>0                    </td> <td>0              </td> <td>0               </td>\n",
              "        </tr>\n",
              "        <tr>\n",
              "            <td>2020-01-22</td> <td>1    </td> <td>0     </td> <td>1                    </td> <td>0              </td> <td>0               </td>\n",
              "        </tr>\n",
              "        <tr>\n",
              "            <td>2020-01-23</td> <td>1    </td> <td>0     </td> <td>2                    </td> <td>0              </td> <td>0               </td>\n",
              "        </tr>\n",
              "        <tr>\n",
              "            <td>2020-01-24</td> <td>2    </td> <td>0     </td> <td>3                    </td> <td>1              </td> <td>0               </td>\n",
              "        </tr>\n",
              "        <tr>\n",
              "            <td>2020-01-25</td> <td>3    </td> <td>0     </td> <td>4                    </td> <td>1              </td> <td>0               </td>\n",
              "        </tr>\n",
              "        <tr>\n",
              "            <td>2020-01-26</td> <td>5    </td> <td>0     </td> <td>5                    </td> <td>2              </td> <td>0               </td>\n",
              "        </tr>\n",
              "        <tr>\n",
              "            <td>2020-01-27</td> <td>5    </td> <td>0     </td> <td>6                    </td> <td>0              </td> <td>0               </td>\n",
              "        </tr>\n",
              "        <tr>\n",
              "            <td>2020-01-28</td> <td>5    </td> <td>0     </td> <td>7                    </td> <td>0              </td> <td>0               </td>\n",
              "        </tr>\n",
              "        <tr>\n",
              "            <td>2020-01-29</td> <td>5    </td> <td>0     </td> <td>8                    </td> <td>0              </td> <td>0               </td>\n",
              "        </tr>\n",
              "        <tr>\n",
              "            <td>2020-01-30</td> <td>6    </td> <td>0     </td> <td>9                    </td> <td>1              </td> <td>0               </td>\n",
              "        </tr>\n",
              "    </tbody>\n",
              "</table>\n",
              "<p>... (94 rows omitted)</p>"
            ],
            "text/plain": [
              "date       | cases | deaths | Days since first case | Change in cases | Change in deaths\n",
              "2020-01-21 | 1     | 0      | 0                     | 0               | 0\n",
              "2020-01-22 | 1     | 0      | 1                     | 0               | 0\n",
              "2020-01-23 | 1     | 0      | 2                     | 0               | 0\n",
              "2020-01-24 | 2     | 0      | 3                     | 1               | 0\n",
              "2020-01-25 | 3     | 0      | 4                     | 1               | 0\n",
              "2020-01-26 | 5     | 0      | 5                     | 2               | 0\n",
              "2020-01-27 | 5     | 0      | 6                     | 0               | 0\n",
              "2020-01-28 | 5     | 0      | 7                     | 0               | 0\n",
              "2020-01-29 | 5     | 0      | 8                     | 0               | 0\n",
              "2020-01-30 | 6     | 0      | 9                     | 1               | 0\n",
              "... (94 rows omitted)"
            ]
          },
          "metadata": {
            "tags": []
          },
          "execution_count": 5
        }
      ]
    },
    {
      "cell_type": "markdown",
      "metadata": {
        "id": "gaM8daDlNlvJ",
        "colab_type": "text"
      },
      "source": [
        "##Reorder columns\n",
        "\n",
        "As you may have noticed, the columns are a bit messed up (`move_column` *is not working*). Run the cell to reorder the columns."
      ]
    },
    {
      "cell_type": "code",
      "metadata": {
        "id": "-W-RDXj9FMRG",
        "colab_type": "code",
        "cellView": "form",
        "colab": {
          "base_uri": "https://localhost:8080/",
          "height": 383
        },
        "outputId": "32d2d65f-5a81-418e-f407-6fbc0f990aec"
      },
      "source": [
        "#@markdown **Run this cell block**\n",
        "\n",
        "covid_19 = covid_19.move_to_start(\"cases\")\n",
        "covid_19 = covid_19.move_to_start(\"Days since first case\")\n",
        "covid_19 = covid_19.move_to_start(\"date\")\n",
        "\n",
        "covid_19 = covid_19.move_to_end(\"Change in cases\")\n",
        "covid_19 = covid_19.move_to_end(\"deaths\")\n",
        "covid_19 = covid_19.move_to_end(\"Change in deaths\")\n",
        "\n",
        "\n",
        "covid_19"
      ],
      "execution_count": null,
      "outputs": [
        {
          "output_type": "execute_result",
          "data": {
            "text/html": [
              "<table border=\"1\" class=\"dataframe\">\n",
              "    <thead>\n",
              "        <tr>\n",
              "            <th>date</th> <th>Days since first case</th> <th>cases</th> <th>Change in cases</th> <th>deaths</th> <th>Change in deaths</th>\n",
              "        </tr>\n",
              "    </thead>\n",
              "    <tbody>\n",
              "        <tr>\n",
              "            <td>2020-01-21</td> <td>0                    </td> <td>1    </td> <td>0              </td> <td>0     </td> <td>0               </td>\n",
              "        </tr>\n",
              "        <tr>\n",
              "            <td>2020-01-22</td> <td>1                    </td> <td>1    </td> <td>0              </td> <td>0     </td> <td>0               </td>\n",
              "        </tr>\n",
              "        <tr>\n",
              "            <td>2020-01-23</td> <td>2                    </td> <td>1    </td> <td>0              </td> <td>0     </td> <td>0               </td>\n",
              "        </tr>\n",
              "        <tr>\n",
              "            <td>2020-01-24</td> <td>3                    </td> <td>2    </td> <td>1              </td> <td>0     </td> <td>0               </td>\n",
              "        </tr>\n",
              "        <tr>\n",
              "            <td>2020-01-25</td> <td>4                    </td> <td>3    </td> <td>1              </td> <td>0     </td> <td>0               </td>\n",
              "        </tr>\n",
              "        <tr>\n",
              "            <td>2020-01-26</td> <td>5                    </td> <td>5    </td> <td>2              </td> <td>0     </td> <td>0               </td>\n",
              "        </tr>\n",
              "        <tr>\n",
              "            <td>2020-01-27</td> <td>6                    </td> <td>5    </td> <td>0              </td> <td>0     </td> <td>0               </td>\n",
              "        </tr>\n",
              "        <tr>\n",
              "            <td>2020-01-28</td> <td>7                    </td> <td>5    </td> <td>0              </td> <td>0     </td> <td>0               </td>\n",
              "        </tr>\n",
              "        <tr>\n",
              "            <td>2020-01-29</td> <td>8                    </td> <td>5    </td> <td>0              </td> <td>0     </td> <td>0               </td>\n",
              "        </tr>\n",
              "        <tr>\n",
              "            <td>2020-01-30</td> <td>9                    </td> <td>6    </td> <td>1              </td> <td>0     </td> <td>0               </td>\n",
              "        </tr>\n",
              "    </tbody>\n",
              "</table>\n",
              "<p>... (94 rows omitted)</p>"
            ],
            "text/plain": [
              "date       | Days since first case | cases | Change in cases | deaths | Change in deaths\n",
              "2020-01-21 | 0                     | 1     | 0               | 0      | 0\n",
              "2020-01-22 | 1                     | 1     | 0               | 0      | 0\n",
              "2020-01-23 | 2                     | 1     | 0               | 0      | 0\n",
              "2020-01-24 | 3                     | 2     | 1               | 0      | 0\n",
              "2020-01-25 | 4                     | 3     | 1               | 0      | 0\n",
              "2020-01-26 | 5                     | 5     | 2               | 0      | 0\n",
              "2020-01-27 | 6                     | 5     | 0               | 0      | 0\n",
              "2020-01-28 | 7                     | 5     | 0               | 0      | 0\n",
              "2020-01-29 | 8                     | 5     | 0               | 0      | 0\n",
              "2020-01-30 | 9                     | 6     | 1               | 0      | 0\n",
              "... (94 rows omitted)"
            ]
          },
          "metadata": {
            "tags": []
          },
          "execution_count": 6
        }
      ]
    },
    {
      "cell_type": "markdown",
      "metadata": {
        "id": "pYhHHeygpACU",
        "colab_type": "text"
      },
      "source": [
        "#Viewing the data\n",
        "\n",
        "Before attempting to predict the data, display it."
      ]
    },
    {
      "cell_type": "markdown",
      "metadata": {
        "id": "cIXhFCWfPGum",
        "colab_type": "text"
      },
      "source": [
        "##Plot Number Infected \n",
        "\n",
        "Inset the x and y into the variable below"
      ]
    },
    {
      "cell_type": "code",
      "metadata": {
        "id": "Q6wEEPY0pEr9",
        "colab_type": "code",
        "colab": {
          "base_uri": "https://localhost:8080/",
          "height": 295
        },
        "outputId": "acb78494-2748-429f-8594-64b2eeb23018"
      },
      "source": [
        "x = covid_19[\"Days since first case\"]\n",
        "y = covid_19[\"cases\"]\n",
        "\n",
        "#only change the above\n",
        "plt.plot(x, y, \"ro\")\n",
        "plt.xlabel('Days since 1/3/2020')\n",
        "plt.ylabel('Number Infected')\n",
        "plt.title(\"Days vs Number Infected\")\n",
        "\n",
        "plt.show()"
      ],
      "execution_count": null,
      "outputs": [
        {
          "output_type": "display_data",
          "data": {
            "image/png": "[encoded data removed]",
            "text/plain": [
              "<Figure size 432x288 with 1 Axes>"
            ]
          },
          "metadata": {
            "tags": [],
            "needs_background": "light"
          }
        }
      ]
    },
    {
      "cell_type": "markdown",
      "metadata": {
        "id": "sOKzECqAuFaW",
        "colab_type": "text"
      },
      "source": [
        "##Plot Rate of Infection"
      ]
    },
    {
      "cell_type": "code",
      "metadata": {
        "id": "vF4uMey2uROD",
        "colab_type": "code",
        "colab": {
          "base_uri": "https://localhost:8080/",
          "height": 295
        },
        "outputId": "b68864f7-6d1e-4023-a760-62d296be63d1"
      },
      "source": [
        "x = covid_19[\"Days since first case\"]\n",
        "y = covid_19[\"Change in cases\"]\n",
        "\n",
        "#only change the above\n",
        "plt.plot(x, y, \"ro\")\n",
        "plt.xlabel('Days since 1/3/2020')\n",
        "plt.ylabel('Change in cases')\n",
        "plt.title(\"Days vs Rate of Infection\")\n",
        "\n",
        "plt.show()"
      ],
      "execution_count": null,
      "outputs": [
        {
          "output_type": "display_data",
          "data": {
            "image/png": "[encoded data removed]",
            "text/plain": [
              "<Figure size 432x288 with 1 Axes>"
            ]
          },
          "metadata": {
            "tags": [],
            "needs_background": "light"
          }
        }
      ]
    },
    {
      "cell_type": "markdown",
      "metadata": {
        "id": "bH5ZNMLP4Gc8",
        "colab_type": "text"
      },
      "source": [
        "#Fitting the Data\n",
        "\n",
        "The next section will discuss fitting data to an equation using `opt.curve_fit()` and variables to make conclusions and predictions."
      ]
    },
    {
      "cell_type": "markdown",
      "metadata": {
        "id": "87Zx82D8WzuK",
        "colab_type": "text"
      },
      "source": [
        "##Best Fit Curve of Infections\n",
        "\n",
        "The number of infections can be modeled by a logitic curve that looks like the following:\n",
        "\n",
        "![alt text](https://upload.wikimedia.org/wikipedia/commons/thumb/8/88/Logistic-curve.svg/1200px-Logistic-curve.svg.png)\n",
        "\n",
        "\n",
        "It is ideal for modeling infections as it has at first exponential growth, but it at some point slows\n",
        "\n",
        "Here is the equation for a logistic curve:\n",
        "# $\\frac{a}{1+e^{-b(x-c)}}$\n",
        "\n",
        "It has been made into a function callable by `logistic` which takes four variables. You can see this with the example code below\n",
        "\n",
        "\n",
        "\n",
        "```\n",
        "def logistic(x, a, b, c):\n",
        "  return a / (1. + np.exp(-b * (x - c)))\n",
        "```\n",
        "\n",
        "To find the variables that best the equation, the function `opt.curve_fit()`. It returns the best fitting variables in some, *but not all*, cases. It has been inserted below.\n",
        "\n",
        "put the x and y below, and try using one of the methods to find the variables"
      ]
    },
    {
      "cell_type": "code",
      "metadata": {
        "id": "Bat1RrMA2hxB",
        "colab_type": "code",
        "colab": {}
      },
      "source": [
        "x = covid_19[\"Days since first case\"]\n",
        "y = covid_19[\"cases\"]"
      ],
      "execution_count": null,
      "outputs": []
    },
    {
      "cell_type": "code",
      "metadata": {
        "id": "g10Qb8E-2xV6",
        "colab_type": "code",
        "cellView": "form",
        "colab": {
          "base_uri": "https://localhost:8080/",
          "height": 130
        },
        "outputId": "45220b6e-9887-45b7-8a6e-37cb202ecf28"
      },
      "source": [
        "#@title Manual Variable Finding\n",
        "#@markdown *Try manually finding variables before using the automatic solver*\n",
        "\n",
        "a =  #@param {type:\"number\"}\n",
        "b =  #@param {type:\"number\"}\n",
        "c =  #@param {type:\"number\"}\n",
        "\n",
        "y_pred = logistic(x, a, b, c) # this will put the array through the function along with the fitted variables\n",
        "\n",
        "\n",
        "plt.xlabel('Days since 1/3/2020')\n",
        "plt.ylabel('Number Infected')\n",
        "plt.title(\"Days vs Number Infected Fitted\")\n",
        "plt.plot(x, y, 'o') #This plots the known points as dots\n",
        "plt.plot(x, y_pred, '-') #this plots the predicted points as a line\n",
        "plt.text(np.max(x)+10, np.max(y)-150000, logistic_info(a, b, c), verticalalignment='top') #this provides a helpful textbox for funtion information\n",
        "plt.show()\n",
        "\n",
        "print(\"R2 score of: %.7f\" % sklearn.metrics.r2_score(y, y_pred))\n",
        "print(\"Mean absolute error:  %.2f\" % sklearn.metrics.mean_absolute_error(y, y_pred))"
      ],
      "execution_count": null,
      "outputs": [
        {
          "output_type": "error",
          "ename": "SyntaxError",
          "evalue": "ignored",
          "traceback": [
            "\u001b[0;36m  File \u001b[0;32m\"<ipython-input-10-2e90b65ae5e8>\"\u001b[0;36m, line \u001b[0;32m2\u001b[0m\n\u001b[0;31m    a =  #@param {type:\"number\"}\u001b[0m\n\u001b[0m                                ^\u001b[0m\n\u001b[0;31mSyntaxError\u001b[0m\u001b[0;31m:\u001b[0m invalid syntax\n"
          ]
        }
      ]
    },
    {
      "cell_type": "code",
      "metadata": {
        "id": "crUXlrYt4nSB",
        "colab_type": "code",
        "cellView": "form",
        "colab": {}
      },
      "source": [
        "#@title Interactive Variable Finding\n",
        "#@markdown *This launches an interactive pywidget.*\n",
        "\n",
        "\n",
        "def interactive(a,b,c):\n",
        "  y_pred = logistic(x, a, b, c) # this will put the array through the function along with the fitted variables\n",
        "\n",
        "\n",
        "  plt.xlabel('Days since 1/3/2020')\n",
        "  plt.ylabel('Number Infected')\n",
        "  plt.title(\"Days vs Number Infected Fitted\")\n",
        "  plt.plot(x, y, 'o') #This plots the known points as dots\n",
        "  plt.plot(x, y_pred, '-') #this plots the predicted points as a line\n",
        "  plt.text(np.max(x)+10, np.max(y)-150000, logistic_info(a, b, c), verticalalignment='top') #this provides a helpful textbox for funtion information\n",
        "  plt.show()\n",
        "\n",
        "  print(\"R2 score of: %.7f\" % sklearn.metrics.r2_score(y, y_pred))\n",
        "  print(\"Mean absolute error:  %.2f\" % sklearn.metrics.mean_absolute_error(y, y_pred))\n",
        "\n",
        "interact(interactive, a=(700000,900000), b=(0, 2, 0.001), c=(60, 100))"
      ],
      "execution_count": null,
      "outputs": []
    },
    {
      "cell_type": "code",
      "metadata": {
        "id": "iGiYPtiUg9Pr",
        "colab_type": "code",
        "cellView": "form",
        "colab": {
          "base_uri": "https://localhost:8080/",
          "height": 329
        },
        "outputId": "f284ddc3-5ba1-4de9-b873-141c1248d37e"
      },
      "source": [
        "#@title Automatic Variable Finding\n",
        "#@markdown This uses `opt.curve_fit()` to find the best fitting variables.\n",
        "\n",
        "(a_, b_, c_), _ = opt.curve_fit(logistic, x, y) #Finds the variablesthat fit best\n",
        "y_pred = logistic(x, a_, b_, c_) # this will put the array through the function along with the fitted variables\n",
        "\n",
        "\n",
        "plt.xlabel('Days since 1/3/2020')\n",
        "plt.ylabel('Number Infected')\n",
        "plt.title(\"Days vs Number Infected Fitted\")\n",
        "plt.plot(x, y, 'o') #This plots the known points as dots\n",
        "plt.plot(x, y_pred, '-') #this plots the predicted points as a line\n",
        "plt.text(np.max(x)+10, np.max(y)-150000, logistic_info(a_, b_, c_), verticalalignment='top') #this provides a helpful textbox for funtion information\n",
        "plt.show()\n",
        "\n",
        "print(\"R2 score of: %.7f\" % sklearn.metrics.r2_score(y, y_pred))\n",
        "print(\"Mean absolute error:  %.2f\" % sklearn.metrics.mean_absolute_error(y, y_pred))"
      ],
      "execution_count": null,
      "outputs": [
        {
          "output_type": "display_data",
          "data": {
            "image/png": "[encoded data removed]",
            "text/plain": [
              "<Figure size 432x288 with 1 Axes>"
            ]
          },
          "metadata": {
            "tags": [],
            "needs_background": "light"
          }
        },
        {
          "output_type": "stream",
          "text": [
            "R2 score of: 0.9965920\n",
            "Mean absolute error:  14524.56\n"
          ],
          "name": "stdout"
        }
      ]
    },
    {
      "cell_type": "markdown",
      "metadata": {
        "id": "LG7cdDe-VOg7",
        "colab_type": "text"
      },
      "source": [
        "###Questions about Fitted Infection Function"
      ]
    },
    {
      "cell_type": "markdown",
      "metadata": {
        "id": "dydp7w7TwE4d",
        "colab_type": "text"
      },
      "source": [
        "**Using that fitted variable predict approximatley how many people will be diagnosed nationwide:**\n",
        "\n",
        "*You answer here*"
      ]
    },
    {
      "cell_type": "markdown",
      "metadata": {
        "id": "SA4fRemz2R5E",
        "colab_type": "text"
      },
      "source": [
        "**Can you predict when the infections will be within 10% of the upper limit:**\n",
        "\n",
        "*Your answer here*"
      ]
    },
    {
      "cell_type": "markdown",
      "metadata": {
        "id": "lYDAEFIAzAgW",
        "colab_type": "text"
      },
      "source": [
        "##Best Fit Curve Rate of Infection\n",
        "\n",
        "Find a solution with an $R^2$ greater than 0.9\n",
        "\n",
        "----\n",
        "\n",
        "The rate of infection can be modeled by a gaussian curve with the form: $ae^{-\\frac{x-\\mu}{4\\sigma}^2}$\n",
        "\n",
        "The rate of infections can not be tuned using `opt.fit()`. So you will need to try and adjust the variables on your own (or using math)\n",
        "\n",
        " \n",
        "*   **Amplitude**\n",
        "  *  This is represented by $a$ in the equation and `gauss_amp` in the code. It is also the peak of the   \n",
        "*   **Mean**\n",
        "  *  Mean is represented by $\\mu$ in the equation, and `gauss_mean` in the code. It also happens to be the location of the peak of the equation\n",
        "*  **Standard Deviation**\n",
        "  *  Standard deviation is represented by $\\sigma$ in the equation and `gauss_std` in the code. The standard deviation determines the spread of the bell curve, the larger the number the wider the curve.\n",
        "----\n",
        "\n"
      ]
    },
    {
      "cell_type": "code",
      "metadata": {
        "id": "Y_5kIyXvrd3p",
        "colab_type": "code",
        "colab": {}
      },
      "source": [
        "x = covid_19[\"Days since first case\"]\n",
        "y = covid_19[\"Change in cases\"]\n",
        "\n",
        "#CHANGE THIS AND RUN IT BEFORE CONTINUING!!!!"
      ],
      "execution_count": null,
      "outputs": []
    },
    {
      "cell_type": "code",
      "metadata": {
        "id": "QLbU93e_245z",
        "colab_type": "code",
        "cellView": "form",
        "colab": {
          "base_uri": "https://localhost:8080/",
          "height": 329
        },
        "outputId": "367d22ad-382c-4d57-bf94-7277a6008fce"
      },
      "source": [
        "#@title Fitting with variables\n",
        "#@markdown Fit using variables\n",
        "\n",
        "\n",
        "\n",
        "gauss_amp = 36000 #@param {type:\"number\"}\n",
        "gauss_mean = 77 #@param {type:\"number\"}\n",
        "gauss_std = 3.3 #@param {type:\"number\"}\n",
        "\n",
        "\n",
        "#edit the above\n",
        "\n",
        "\n",
        "\n",
        "y_pred = gauss(x, gauss_amp, gauss_mean, gauss_std) # this will put the array through the function along with the fitted variables\n",
        "\n",
        "\n",
        "plt.xlabel('Days since 1/3/2020')\n",
        "plt.ylabel('Number Infected')\n",
        "plt.title(\"Days vs Number Infected Fitted\")\n",
        "plt.plot(x, y, 'o') #This plots the known points as dots\n",
        "plt.plot(x, y_pred, '-') #this plots the predicted points as a line\n",
        "plt.text(np.max(x)+10, np.max(y), gauss_info(gauss_amp, gauss_mean, gauss_std), verticalalignment='top') #this provides a helpful textbox for funtion information\n",
        "plt.show()\n",
        "\n",
        "print(\"R2 score of: %.7f\" % sklearn.metrics.r2_score(y, y_pred))\n",
        "print(\"Mean absolute error:  %.2f\" % sklearn.metrics.mean_absolute_error(y, y_pred))"
      ],
      "execution_count": null,
      "outputs": [
        {
          "output_type": "display_data",
          "data": {
            "image/png": "[encoded data removed]",
            "text/plain": [
              "<Figure size 432x288 with 1 Axes>"
            ]
          },
          "metadata": {
            "tags": [],
            "needs_background": "light"
          }
        },
        {
          "output_type": "stream",
          "text": [
            "R2 score of: 0.5291017\n",
            "Mean absolute error:  4252.08\n"
          ],
          "name": "stdout"
        }
      ]
    },
    {
      "cell_type": "code",
      "metadata": {
        "id": "KsHO6QfKoAyC",
        "colab_type": "code",
        "cellView": "form",
        "colab": {}
      },
      "source": [
        "#@title Interactive Fitting\n",
        "#@markdown This will help you fit the curve with an adgustable slider\n",
        "\n",
        "\n",
        "def interactive(a,b,c):\n",
        "  gauss_amp = a\n",
        "  gauss_mean = b\n",
        "  gauss_std = c\n",
        "  \n",
        "  y_pred = gauss(x, gauss_amp, gauss_mean, gauss_std) # this will put the array through the function along with the fitted variables\n",
        "\n",
        "\n",
        "  plt.xlabel('Days since 1/3/2020')\n",
        "  plt.ylabel('Number Infected')\n",
        "  plt.title(\"Days vs Number Infected Fitted\")\n",
        "  plt.plot(x, y, 'o') #This plots the known points as dots\n",
        "  plt.plot(x, y_pred, '-') #this plots the predicted points as a line\n",
        "  plt.text(np.max(x)+10, np.max(y), gauss_info(gauss_amp, gauss_mean, gauss_std), verticalalignment='top') #this provides a helpful textbox for funtion information\n",
        "  plt.show()\n",
        "\n",
        "  print(\"R2 score of: %.7f\" % sklearn.metrics.r2_score(y, y_pred))\n",
        "  print(\"Mean absolute error:  %.2f\" % sklearn.metrics.mean_absolute_error(y, y_pred))\n",
        "\n",
        "interact(interactive, a=(30000,40000), b=(60,100, 0.5), c=(0,7,0.1))"
      ],
      "execution_count": null,
      "outputs": []
    },
    {
      "cell_type": "markdown",
      "metadata": {
        "id": "uX_DSjPmVbX6",
        "colab_type": "text"
      },
      "source": [
        "####Possible solution\n",
        "*Open this block for a potential solution.*"
      ]
    },
    {
      "cell_type": "markdown",
      "metadata": {
        "id": "WtrKCUxxV7f7",
        "colab_type": "text"
      },
      "source": [
        "\n",
        "Variables set to:\n",
        "```\n",
        "gauss_amp = 36000\n",
        "gauss_mean = 77\n",
        "gauss_std = 3.3\n",
        "```\n",
        "On April 18th this had:\n",
        "\n",
        "```\n",
        "R2 score of: 0.9618715\n",
        "Mean absolute error:  1035.88\n",
        "```\n"
      ]
    },
    {
      "cell_type": "markdown",
      "metadata": {
        "id": "Si2A3NAXVXKU",
        "colab_type": "text"
      },
      "source": [
        "###Questions about Fitted Function"
      ]
    },
    {
      "cell_type": "markdown",
      "metadata": {
        "id": "PzJoyzWqXWza",
        "colab_type": "text"
      },
      "source": [
        "**When will there be less than 10,000 new reported cases:**\n",
        "\n",
        "*First calculate how many days, then put the number of days into the code block below to see a date*"
      ]
    },
    {
      "cell_type": "code",
      "metadata": {
        "id": "Ef6RNIl7Y5cw",
        "colab_type": "code",
        "cellView": "form",
        "colab": {}
      },
      "source": [
        "days_since = 12 #@param {type:\"integer\"}\n",
        "\n",
        "intial_date = date(2020, 1, 3)\n",
        "new_date = intial_date + timedelta(days=days_since)\n",
        "\n",
        "print(\"There will be less than 10,000 new reported cases on: \", new_date)\n"
      ],
      "execution_count": null,
      "outputs": []
    },
    {
      "cell_type": "markdown",
      "metadata": {
        "id": "l54_RnOBeka4",
        "colab_type": "text"
      },
      "source": [
        "**When will 90% of cases be reported:**\n",
        "\n",
        "*Your answer here*\n",
        "\n",
        "**"
      ]
    },
    {
      "cell_type": "markdown",
      "metadata": {
        "id": "alAd5D-a_Qb4",
        "colab_type": "text"
      },
      "source": [
        "**There is an 11.3% hospitilazation rate of COVID-19 (according to:** [*CDC.gov*](https://www.cdc.gov/coronavirus/2019-ncov/covid-data/covidview/index.html) and [*USA Today*](https://www.usatoday.com/story/money/2020/04/17/states-with-the-highest-number-of-covid-19-cases/111552340/)) **and there are**"
      ]
    },
    {
      "cell_type": "markdown",
      "metadata": {
        "id": "rY43Lv5s_Urj",
        "colab_type": "text"
      },
      "source": [
        "#Fitting Death statistics\n",
        "\n",
        "The next section uses the death statistics, if you feel uncomfortable with the topic there is **no obligation** to continue. \n",
        "\n",
        "If you would like to continue, please check the box below."
      ]
    },
    {
      "cell_type": "code",
      "metadata": {
        "id": "eZ73kM3Gdq_4",
        "colab_type": "code",
        "cellView": "form",
        "colab": {}
      },
      "source": [
        "I_Am_Continuing = False #@param {type:\"boolean\"}"
      ],
      "execution_count": null,
      "outputs": []
    },
    {
      "cell_type": "markdown",
      "metadata": {
        "id": "9Ym3blBQbf7i",
        "colab_type": "text"
      },
      "source": [
        "##Best Fit Curve Number of Deaths"
      ]
    },
    {
      "cell_type": "code",
      "metadata": {
        "id": "Nehss-AX892z",
        "colab_type": "code",
        "colab": {}
      },
      "source": [
        "x = covid_19[\"Days since first case\"]\n",
        "y = covid_19[\"deaths\"]"
      ],
      "execution_count": null,
      "outputs": []
    },
    {
      "cell_type": "code",
      "metadata": {
        "colab_type": "code",
        "cellView": "form",
        "id": "u6UX_wlV81Ep",
        "colab": {}
      },
      "source": [
        "#@title Manual Variable Finding\n",
        "#@markdown *Try manually finding variables before using the automatic solver*\n",
        "\n",
        "a =  42911 #@param {type:\"number\"}\n",
        "b = 0.197 #@param {type:\"number\"}\n",
        "c =  81.453 #@param {type:\"number\"}\n",
        "\n",
        "y_pred = logistic(x, a, b, c) # this will put the array through the function along with the fitted variables\n",
        "\n",
        "\n",
        "plt.xlabel('Days since 1/3/2020')\n",
        "plt.ylabel('Number Dead')\n",
        "plt.title(\"Days vs Number Dead Fitted\")\n",
        "plt.plot(x, y, 'o') #This plots the known points as dots\n",
        "plt.plot(x, y_pred, '-') #this plots the predicted points as a line\n",
        "plt.text(np.max(x)+10, np.max(y)-1500, logistic_info(a, b, c_), verticalalignment='top') #this provides a helpful textbox for funtion information\n",
        "plt.show()\n",
        "\n",
        "print(\"R2 score of: %.7f\" % sklearn.metrics.r2_score(y, y_pred))\n",
        "print(\"Mean absolute error:  %.2f\" % sklearn.metrics.mean_absolute_error(y, y_pred))"
      ],
      "execution_count": null,
      "outputs": []
    },
    {
      "cell_type": "code",
      "metadata": {
        "id": "lmXMhXlz_fCz",
        "colab_type": "code",
        "cellView": "form",
        "colab": {}
      },
      "source": [
        "#@title Interactive Variable Finding\n",
        "#@markdown *This launches an interactive pywidget.*\n",
        "\n",
        "\n",
        "def interactive(a,b,c):\n",
        "  y_pred = logistic(x, a, b, c) # this will put the array through the function along with the fitted variables\n",
        "\n",
        "  plt.xlabel('Days since 1/3/2020')\n",
        "  plt.ylabel('Number Dead')\n",
        "  plt.title(\"Days vs Number Dead Fitted\")\n",
        "  plt.plot(x, y, 'o') #This plots the known points as dots\n",
        "  plt.plot(x, y_pred, '-') #this plots the predicted points as a line\n",
        "  plt.text(np.max(x)+10, np.max(y)-1500, logistic_info(a, b, c_), verticalalignment='top') #this provides a helpful textbox for funtion information\n",
        "  plt.show()\n",
        "\n",
        "  print(\"R2 score of: %.7f\" % sklearn.metrics.r2_score(y, y_pred))\n",
        "  print(\"Mean absolute error:  %.2f\" % sklearn.metrics.mean_absolute_error(y, y_pred))\n",
        "\n",
        "interact(interactive, a=(30000, 50000), b=(0,1, 0.0001), c=(50, 100))"
      ],
      "execution_count": null,
      "outputs": []
    },
    {
      "cell_type": "code",
      "metadata": {
        "id": "CPuQCKNVbIX-",
        "colab_type": "code",
        "cellView": "form",
        "colab": {
          "base_uri": "https://localhost:8080/",
          "height": 329
        },
        "outputId": "deaf0e7c-a1bc-4342-cb53-787e91d53ceb"
      },
      "source": [
        "#@title Automatic Variable Finding\n",
        "#@markdown This uses `opt.curve_fit()` to find the best fitting variables.\n",
        "\n",
        "\n",
        "(a_, b_, c_), _ = opt.curve_fit(logistic, x, y) \n",
        "y_pred = logistic(x, a_, b_, c_) # this will put the array through the function along with the fitted variables\n",
        "\n",
        "\n",
        "plt.xlabel('Days since 1/3/2020')\n",
        "plt.ylabel('Number Dead')\n",
        "plt.title(\"Days vs Number Dead Fitted\")\n",
        "plt.plot(x, y, 'o') #This plots the known points as dots\n",
        "plt.plot(x, y_pred, '-') #this plots the predicted points as a line\n",
        "plt.text(np.max(x)+10, np.max(y)-1500, logistic_info(a_, b_, c_), verticalalignment='top') #this provides a helpful textbox for funtion information\n",
        "plt.show()\n",
        "\n",
        "print(\"R2 score of: %.7f\" % sklearn.metrics.r2_score(y, y_pred))\n",
        "print(\"Mean absolute error:  %.2f\" % sklearn.metrics.mean_absolute_error(y, y_pred))"
      ],
      "execution_count": null,
      "outputs": [
        {
          "output_type": "display_data",
          "data": {
            "image/png": "[encoded data removed]",
            "text/plain": [
              "<Figure size 432x288 with 1 Axes>"
            ]
          },
          "metadata": {
            "tags": [],
            "needs_background": "light"
          }
        },
        {
          "output_type": "stream",
          "text": [
            "R2 score of: 0.9980677\n",
            "Mean absolute error:  533.87\n"
          ],
          "name": "stdout"
        }
      ]
    },
    {
      "cell_type": "markdown",
      "metadata": {
        "id": "FL2AQ9pOmJ-z",
        "colab_type": "text"
      },
      "source": [
        "**How many people are predicted to according to the equation:**\n",
        "\n",
        "*Your answer here*"
      ]
    },
    {
      "cell_type": "markdown",
      "metadata": {
        "id": "B3D9YzKucP0V",
        "colab_type": "text"
      },
      "source": [
        "##Best Fit Curve Rate of Deaths\n",
        "\n",
        "Find a solution with an $R^2$ greater than 0.9\n",
        "\n",
        "Edit the code block below to define an x and y variable for the equation"
      ]
    },
    {
      "cell_type": "code",
      "metadata": {
        "id": "PS49YFBJqxWI",
        "colab_type": "code",
        "colab": {}
      },
      "source": [
        "x = covid_19[\"Days since first case\"]\n",
        "y = covid_19[\"Change in deaths\"]"
      ],
      "execution_count": null,
      "outputs": []
    },
    {
      "cell_type": "code",
      "metadata": {
        "id": "Mu9ishiUcjpX",
        "colab_type": "code",
        "cellView": "form",
        "colab": {}
      },
      "source": [
        "#@title Fitting with numbers\n",
        "#@markdown Use this cell to add \n",
        "\n",
        "gauss_amp = 2500 #@param {type:\"number\"}\n",
        "gauss_mean = 86 #@param {type:\"number\"}\n",
        "gauss_std = 3.3 #@param {type:\"number\"}\n",
        "\n",
        "\n",
        "#edit the above\n",
        "\n",
        "def gauss(x, amplitude, mean, stddev):\n",
        "    return amplitude * np.exp(-((x - mean) / 4 / stddev)**2)\n",
        "\n",
        "\n",
        "y_pred = gauss(x, gauss_amp, gauss_mean, gauss_std) # this will put the array through the function along with the fitted variables\n",
        "\n",
        "\n",
        "plt.xlabel('Days since 1/3/2020')\n",
        "plt.ylabel('New Deaths')\n",
        "plt.title(\"Days vs New Deaths Fitted\")\n",
        "plt.plot(x, y, 'o') #This plots the known points as dots\n",
        "plt.plot(x, y_pred, '-') #this plots the predicted points as a line\n",
        "plt.text(np.max(x)+10, np.max(y), gauss_info(gauss_amp, gauss_mean, gauss_std), verticalalignment='top') #this provides a helpful textbox for funtion information\n",
        "plt.show()\n",
        "\n",
        "print(\"R2 score of: %.7f\" % sklearn.metrics.r2_score(y, y_pred))\n",
        "print(\"Mean absolute error:  %.2f\" % sklearn.metrics.mean_absolute_error(y, y_pred))"
      ],
      "execution_count": null,
      "outputs": []
    },
    {
      "cell_type": "code",
      "metadata": {
        "colab_type": "code",
        "id": "xtqIrW8cqqFG",
        "cellView": "form",
        "colab": {
          "base_uri": "https://localhost:8080/",
          "height": 443,
          "referenced_widgets": [
            "ee03475002d1473aab8f004d337c7ebf",
            "e488cfe36e5b401894946e6ef9423337",
            "429ed32eb0984e40800d0b231bdfa77f",
            "bd81100b1c7e4de98b8825f1b050e1fe",
            "da4f6549848945a6bd57f63b710b1fbb",
            "39c1ca244de842858839e137472584e1",
            "0f0de7790d39410cbad13fd8ca850560",
            "d889023313dc4cffab14af733611803d",
            "e4ccfe8655004e4592fb37258815a5a1",
            "eb72ffe824a74f01adda6e7eaca7ad22",
            "d69865b4ebd44eefb3c96d9fa705fe79",
            "200ee0ab496a44b1afd8cecf816dba9f",
            "ec749cab3bf648b8a6e1b297336dac67"
          ]
        },
        "outputId": "ade140eb-13d7-4938-ddab-d935eea393e2"
      },
      "source": [
        "#@title Interactive Fitting\n",
        "#@markdown Use this cell block to fit the curve to the data.\n",
        "def interactive(a,b,c):\n",
        "  gauss_amp = a\n",
        "  gauss_mean = b\n",
        "  gauss_std = c\n",
        "\n",
        "  y_pred = gauss(x, gauss_amp, gauss_mean, gauss_std) # this will put the array through the function along with the fitted variables\n",
        "\n",
        "  plt.xlabel('Days since 1/3/2020')\n",
        "  plt.ylabel('New Deaths')\n",
        "  plt.title(\"Days vs New Deaths Fitted\")\n",
        "  plt.plot(x, y, 'o') #This plots the known points as dots\n",
        "  plt.plot(x, y_pred, '-') #this plots the predicted points as a line\n",
        "  plt.text(np.max(x)+10, np.max(y), gauss_info(gauss_amp, gauss_mean, gauss_std), verticalalignment='top') #this provides a helpful textbox for funtion information\n",
        "  plt.show()\n",
        "\n",
        "  print(\"R2 score of: %.7f\" % sklearn.metrics.r2_score(y, y_pred))\n",
        "  print(\"Mean absolute error:  %.2f\" % sklearn.metrics.mean_absolute_error(y, y_pred))\n",
        "\n",
        "\n",
        "interact(interactive, a=(2000,3000), b=(60,100), c=(0,7, 0.1))"
      ],
      "execution_count": null,
      "outputs": [
        {
          "output_type": "display_data",
          "data": {
            "application/vnd.jupyter.widget-view+json": {
              "model_id": "ee03475002d1473aab8f004d337c7ebf",
              "version_minor": 0,
              "version_major": 2
            },
            "text/plain": [
              "interactive(children=(IntSlider(value=2500, description='a', max=3000, min=2000), IntSlider(value=80, descript…"
            ]
          },
          "metadata": {
            "tags": []
          }
        },
        {
          "output_type": "execute_result",
          "data": {
            "text/plain": [
              "<function __main__.interactive>"
            ]
          },
          "metadata": {
            "tags": []
          },
          "execution_count": 19
        }
      ]
    },
    {
      "cell_type": "markdown",
      "metadata": {
        "colab_type": "text",
        "id": "GT4n9domkY-W"
      },
      "source": [
        "####Possible solution\n",
        "*Open this block for a potential solution.*"
      ]
    },
    {
      "cell_type": "markdown",
      "metadata": {
        "colab_type": "text",
        "id": "myJkBnGTkY-b"
      },
      "source": [
        "\n",
        "Variables set to:\n",
        "```\n",
        "gauss_amp = 2500\n",
        "gauss_mean = 87\n",
        "gauss_std = 3.9\n",
        "```\n",
        "On April 18th this had:\n",
        "\n",
        "```\n",
        "R2 score of: 0.9517000\n",
        "Mean absolute error:  59.69\n",
        "```\n"
      ]
    },
    {
      "cell_type": "markdown",
      "metadata": {
        "id": "6L5YRrDamB9M",
        "colab_type": "text"
      },
      "source": [
        "###Questions about Rate of Deaths"
      ]
    },
    {
      "cell_type": "markdown",
      "metadata": {
        "id": "XLakx0StdE4f",
        "colab_type": "text"
      },
      "source": [
        "**Using the mean you found in the rate of reported infections and the one above. Can you predict how long after being diagnosed a patient is recovering or critical?**\n",
        "\n",
        "*Your answer here*"
      ]
    },
    {
      "cell_type": "markdown",
      "metadata": {
        "id": "ftfoIqhnj9Mm",
        "colab_type": "text"
      },
      "source": [
        "#Afterwards\n",
        "\n",
        "These are once again completley optional questions."
      ]
    },
    {
      "cell_type": "markdown",
      "metadata": {
        "id": "M8iVc7owkEqA",
        "colab_type": "text"
      },
      "source": [
        "**Do you feel that analyzing the data has given you a new understanding of the current state of affairs?**\n",
        "\n",
        "*Your answer here*"
      ]
    }
  ]
}