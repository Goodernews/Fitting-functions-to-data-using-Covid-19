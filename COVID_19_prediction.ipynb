{
  "nbformat": 4,
  "nbformat_minor": 0,
  "metadata": {
    "colab": {
      "name": "COVID-19 prediction",
      "provenance": [],
      "collapsed_sections": [
        "uX_DSjPmVbX6",
        "9Ym3blBQbf7i",
        "B3D9YzKucP0V",
        "GT4n9domkY-W"
      ]
    },
    "kernelspec": {
      "name": "python3",
      "display_name": "Python 3"
    }
  },
  "cells": [
    {
      "cell_type": "markdown",
      "metadata": {
        "id": "VcaKEEXLTa5M",
        "colab_type": "text"
      },
      "source": [
        "#Introduction to Fitting Data to Functions using COVID-19\n",
        "\n",
        "***IMPORTANT NOTE:*** *This project was created in April 2020, to ensure consistent answers in grading and fit the number of data points was reduced to 88. This means that the data imported ONLY covers between January 21st and April 18th. As such this should NOT be used to make any generalizations.*\n",
        "\n",
        "\n",
        "---\n",
        "\n"
      ]
    },
    {
      "cell_type": "markdown",
      "metadata": {
        "id": "pboqYwh2o7cP",
        "colab_type": "text"
      },
      "source": [
        "#Intial setup"
      ]
    },
    {
      "cell_type": "code",
      "metadata": {
        "id": "lNLB_nR8oDZn",
        "colab_type": "code",
        "cellView": "form",
        "colab": {}
      },
      "source": [
        "#@title Import libraries\n",
        "import numpy as np\n",
        "from datascience import *\n",
        "import pandas as pd\n",
        "import io\n",
        "import requests\n",
        "import matplotlib.pyplot as plt\n",
        "import sklearn\n",
        "from datetime import date, timedelta\n",
        "import ipywidgets as widgets\n",
        "from sklearn import linear_model\n",
        "from scipy.special import expit\n",
        "import scipy.optimize as opt\n",
        "import math\n",
        "from __future__ import print_function\n",
        "from ipywidgets import interact, interactive, fixed, interact_manual\n",
        "import ipywidgets as widgets\n",
        "%matplotlib inline\n",
        "\n",
        "\n",
        "def logistic_info(a, b, c): # displays the textbox next to the graph\n",
        "  text = '\\n'.join((\n",
        "    r'$\\mathrm{Logistic \\ Equation: \\ } \\frac{a}{1+e^{-b(x-c)}}}$',\n",
        "    r'$\\mathrm{f(x)}= \\frac{%.1f}{1+e^{-%.2f(x-%.2f)}}} $' % (a, b, c, ),\n",
        "    r'$\\mathrm{a}=%.1f$' % (a, ),\n",
        "    r'$\\mathrm{b}=%.3f$' % (b, ),\n",
        "    r'$\\mathrm{c}=%.3f$' % (c, )))\n",
        "  return text\n",
        "\n",
        "def logistic(x, a, b, c):\n",
        "  return a / (1. + np.exp(-b * (x - c)))\n",
        "\n",
        "def gauss_info(a, b, c): # displays the textbox next to the graph\n",
        "  text = '\\n'.join((\n",
        "    r'$\\mathrm{Gaussian \\ Equation: \\ } a \\cdot e^{-(\\frac{(x-b)}{4c})^2}$',\n",
        "    r'$\\mathrm{f(x)}=%.3f \\cdot e^{-\\frac{(x-%.1f)^2}{2 \\cdot %.3f ^2}}$' % (a, b, c, ),\n",
        "    r'$\\mathrm{a}=%.3f$' % (a, ),\n",
        "    r'$\\mathrm{b}=%.1f$' % (b, ),\n",
        "    r'$\\mathrm{c}=%.3f$' % (c, )))\n",
        "  return text\n",
        "\n",
        "def gauss(x, amplitude, mean, stddev):\n",
        "    return amplitude * np.exp(-((x - mean) / 4 / stddev)**2)\n",
        "\n",
        "\n"
      ],
      "execution_count": null,
      "outputs": []
    },
    {
      "cell_type": "code",
      "metadata": {
        "id": "P5DtkngjDq8R",
        "colab_type": "code",
        "cellView": "form",
        "colab": {}
      },
      "source": [
        "#@title Import National data\n",
        "#@markdown [New York Time Covid-19 Github](https://github.com/nytimes/covid-19-data)\n",
        "\n",
        "#@markdown This imports the data from the NYT's Covid-19 dataset to the table `covid_19`\n",
        "\n",
        "\n",
        "df = pd.read_csv(\"https://raw.githubusercontent.com/nytimes/covid-19-data/master/us.csv\") #gets the data from the web and puts it in a panda table\n",
        "\n",
        "covid_19 = Table.from_df(df.head(88)) #transfers panda table into a datascience table\n",
        "covid_19"
      ],
      "execution_count": null,
      "outputs": []
    },
    {
      "cell_type": "markdown",
      "metadata": {
        "id": "gJh2PRgF8K_i",
        "colab_type": "text"
      },
      "source": [
        "#Add columns to the table\n",
        "\n",
        "The table is lacking in a few columns: Days since first case, change in cases per day, change in deaths between days."
      ]
    },
    {
      "cell_type": "markdown",
      "metadata": {
        "id": "cD2AKYZs4oT6",
        "colab_type": "text"
      },
      "source": [
        "##Create a column for days since 1/21\n",
        "As you may notice, there is not a column for days since the first reported national case. Create an array with the days since 1/21 that will be added on."
      ]
    },
    {
      "cell_type": "code",
      "metadata": {
        "id": "TioICjrC5MzH",
        "colab_type": "code",
        "colab": {}
      },
      "source": [
        "array_of_days = \n",
        "\n",
        "covid_19 = covid_19.with_column(array_of_days)\n",
        "covid_19"
      ],
      "execution_count": null,
      "outputs": []
    },
    {
      "cell_type": "markdown",
      "metadata": {
        "id": "oVEhomV75Q4Z",
        "colab_type": "text"
      },
      "source": [
        "##Change in cases per day\n",
        "\n",
        "You will need to use the function [np.diff()](https://docs.scipy.org/doc/numpy/reference/generated/numpy.diff.html)\n",
        "\n",
        "`np.diff()` takes an array and returns the value of the difference, for example:\n",
        "\n",
        "\n",
        "**Input**\n",
        "\n",
        "`example_array = np.array([0, 5, 10, 12, 7, 9])` \n",
        "\n",
        "`np.diff(example_array)`\n",
        "\n",
        "**Output**\n",
        "\n",
        "`array([ 5,  5,  2, -5,  2])`\n",
        "\n",
        "**Important note:** *you will need to add a zero to the beggining of your array. That is done with* `np.insert()`\n"
      ]
    },
    {
      "cell_type": "code",
      "metadata": {
        "id": "JDYW20vx9T_e",
        "colab_type": "code",
        "colab": {}
      },
      "source": [
        "diff_cases = ... #see above\n",
        "\n",
        "#edit only the above\n",
        "diff_cases = np.insert(diff_cases, 0, 0)\n",
        "covid_19 = covid_19.with_column(\"Change in cases\", diff_cases)\n",
        "covid_19"
      ],
      "execution_count": null,
      "outputs": []
    },
    {
      "cell_type": "markdown",
      "metadata": {
        "id": "TMI6HX-_8B11",
        "colab_type": "text"
      },
      "source": [
        "##Change in deaths per day\n",
        "Repeat the same above this time for deaths."
      ]
    },
    {
      "cell_type": "code",
      "metadata": {
        "id": "axT6_Bgy9UmW",
        "colab_type": "code",
        "colab": {}
      },
      "source": [
        "diff_deaths = ... #see above\n",
        "\n",
        "#edit above\n",
        "diff_deaths = np.insert(diff_deaths, 0, 0)\n",
        "covid_19 = covid_19.with_column(\"Change in deaths\", diff_deaths)\n",
        "covid_19"
      ],
      "execution_count": null,
      "outputs": []
    },
    {
      "cell_type": "markdown",
      "metadata": {
        "id": "gaM8daDlNlvJ",
        "colab_type": "text"
      },
      "source": [
        "##Reorder columns\n",
        "\n",
        "As you may have noticed, the columns are a bit messed up (`move_column` *is not working*). Run the cell to reorder the columns."
      ]
    },
    {
      "cell_type": "code",
      "metadata": {
        "id": "-W-RDXj9FMRG",
        "colab_type": "code",
        "cellView": "form",
        "colab": {}
      },
      "source": [
        "#@markdown **Run this cell block**\n",
        "\n",
        "covid_19 = covid_19.move_to_start(\"cases\")\n",
        "covid_19 = covid_19.move_to_start(\"Days since first case\")\n",
        "covid_19 = covid_19.move_to_start(\"date\")\n",
        "\n",
        "covid_19 = covid_19.move_to_end(\"Change in cases\")\n",
        "covid_19 = covid_19.move_to_end(\"deaths\")\n",
        "covid_19 = covid_19.move_to_end(\"Change in deaths\")\n",
        "\n",
        "\n",
        "covid_19"
      ],
      "execution_count": null,
      "outputs": []
    },
    {
      "cell_type": "markdown",
      "metadata": {
        "id": "pYhHHeygpACU",
        "colab_type": "text"
      },
      "source": [
        "#Viewing the data\n",
        "\n",
        "Before attempting to predict the data, display it."
      ]
    },
    {
      "cell_type": "markdown",
      "metadata": {
        "id": "cIXhFCWfPGum",
        "colab_type": "text"
      },
      "source": [
        "##Plot Number Infected \n",
        "\n",
        "Before you fit the data to an equation, try plotting the data with *days since* on the x-axis, and *number infected* on the y axis.\n",
        "\n",
        "Inset the x and y into the variable below"
      ]
    },
    {
      "cell_type": "code",
      "metadata": {
        "id": "Q6wEEPY0pEr9",
        "colab_type": "code",
        "colab": {}
      },
      "source": [
        "x = ...\n",
        "y = ...\n",
        "\n",
        "#only change the above\n",
        "plt.plot(x, y, \"ro\")\n",
        "plt.xlabel('Days since 1/3/2020')\n",
        "plt.ylabel('Number Infected')\n",
        "plt.title(\"Days vs Number Infected\")\n",
        "\n",
        "plt.show()"
      ],
      "execution_count": null,
      "outputs": []
    },
    {
      "cell_type": "markdown",
      "metadata": {
        "id": "DOOxFyrZur3O",
        "colab_type": "text"
      },
      "source": [
        "**What shape does this plot make?**\n",
        "\n",
        "*Your answer here*"
      ]
    },
    {
      "cell_type": "markdown",
      "metadata": {
        "id": "sOKzECqAuFaW",
        "colab_type": "text"
      },
      "source": [
        "##Plot Rate of Infection\n",
        "\n",
        "Repeat the above for the rate of infection."
      ]
    },
    {
      "cell_type": "code",
      "metadata": {
        "id": "vF4uMey2uROD",
        "colab_type": "code",
        "colab": {}
      },
      "source": [
        "x = ...\n",
        "y = ...\n",
        "\n",
        "#only change the above\n",
        "plt.plot(x, y, \"ro\")\n",
        "plt.xlabel('Days since 1/3/2020')\n",
        "plt.ylabel('Change in cases')\n",
        "plt.title(\"Days vs Rate of Infection\")\n",
        "\n",
        "plt.show()"
      ],
      "execution_count": null,
      "outputs": []
    },
    {
      "cell_type": "markdown",
      "metadata": {
        "colab_type": "text",
        "id": "i64RrJzJwXzp"
      },
      "source": [
        "**What shape does this plot make?**\n",
        "\n",
        "*Your answer here*"
      ]
    },
    {
      "cell_type": "markdown",
      "metadata": {
        "id": "bH5ZNMLP4Gc8",
        "colab_type": "text"
      },
      "source": [
        "#Fitting the Data\n",
        "\n",
        "The next section will discuss fitting data to an equation using `opt.curve_fit()` and variables to make conclusions and predictions."
      ]
    },
    {
      "cell_type": "markdown",
      "metadata": {
        "id": "87Zx82D8WzuK",
        "colab_type": "text"
      },
      "source": [
        "##Best Fit Curve of Infections\n",
        "\n",
        "The number of infections can be modeled by a logitic curve that looks like the following:\n",
        "\n",
        "![alt text](https://upload.wikimedia.org/wikipedia/commons/thumb/8/88/Logistic-curve.svg/1200px-Logistic-curve.svg.png)\n",
        "\n",
        "\n",
        "It is ideal for modeling infections as it has at first exponential growth, but it at some point slows\n",
        "\n",
        "Here is the equation for a logistic curve:\n",
        "$\\frac{a}{1+e^{-b(x-c)}}$\n",
        "\n",
        "It has been made into a function callable by `logistic` which takes four variables. You can see this with the example code below\n",
        "\n",
        "\n",
        "\n",
        "```\n",
        "def logistic(x, a, b, c):\n",
        "  return a / (1. + np.exp(-b * (x - c)))\n",
        "```\n",
        "\n",
        "----\n",
        "\n",
        "To find the variables that best the equation, the function `opt.curve_fit()`. It returns the best fitting variables in some, *but not all*, cases. It has been inserted below."
      ]
    },
    {
      "cell_type": "code",
      "metadata": {
        "id": "Bat1RrMA2hxB",
        "colab_type": "code",
        "colab": {}
      },
      "source": [
        "x = \n",
        "y = "
      ],
      "execution_count": null,
      "outputs": []
    },
    {
      "cell_type": "code",
      "metadata": {
        "id": "g10Qb8E-2xV6",
        "colab_type": "code",
        "cellView": "form",
        "colab": {}
      },
      "source": [
        "#@title Manual Variable Finding\n",
        "#@markdown *Try manually finding variables before using the automatic solver*\n",
        "\n",
        "a =  0#@param {type:\"number\"}\n",
        "b =  0#@param {type:\"number\"}\n",
        "c =  0#@param {type:\"number\"}\n",
        "\n",
        "y_pred = logistic(x, a, b, c) # this will put the array through the function along with the fitted variables\n",
        "\n",
        "\n",
        "plt.xlabel('Days since 1/3/2020')\n",
        "plt.ylabel('Number Infected')\n",
        "plt.title(\"Days vs Number Infected Fitted\")\n",
        "plt.plot(x, y, 'o') #This plots the known points as dots\n",
        "plt.plot(x, y_pred, '-') #this plots the predicted points as a line\n",
        "plt.text(np.max(x)+10, np.max(y)-150000, logistic_info(a, b, c), verticalalignment='top') #this provides a helpful textbox for funtion information\n",
        "plt.show()\n",
        "\n",
        "print(\"R2 score of: %.7f\" % sklearn.metrics.r2_score(y, y_pred))\n",
        "print(\"Mean absolute error:  %.2f\" % sklearn.metrics.mean_absolute_error(y, y_pred))"
      ],
      "execution_count": null,
      "outputs": []
    },
    {
      "cell_type": "code",
      "metadata": {
        "id": "crUXlrYt4nSB",
        "colab_type": "code",
        "cellView": "form",
        "colab": {}
      },
      "source": [
        "#@title Interactive Variable Finding\n",
        "#@markdown *This launches an interactive pywidget.*\n",
        "\n",
        "\n",
        "def interactive(a,b,c):\n",
        "  y_pred = logistic(x, a, b, c) # this will put the array through the function along with the fitted variables\n",
        "\n",
        "\n",
        "  plt.xlabel('Days since 1/3/2020')\n",
        "  plt.ylabel('Number Infected')\n",
        "  plt.title(\"Days vs Number Infected Fitted\")\n",
        "  plt.plot(x, y, 'o') #This plots the known points as dots\n",
        "  plt.plot(x, y_pred, '-') #this plots the predicted points as a line\n",
        "  plt.text(np.max(x)+10, np.max(y)-150000, logistic_info(a, b, c), verticalalignment='top') #this provides a helpful textbox for funtion information\n",
        "  plt.show()\n",
        "\n",
        "  print(\"R2 score of: %.7f\" % sklearn.metrics.r2_score(y, y_pred))\n",
        "  print(\"Mean absolute error:  %.2f\" % sklearn.metrics.mean_absolute_error(y, y_pred))\n",
        "\n",
        "interact(interactive, a=(700000,900000), b=(0, 2, 0.001), c=(60, 100))"
      ],
      "execution_count": null,
      "outputs": []
    },
    {
      "cell_type": "code",
      "metadata": {
        "colab_type": "code",
        "cellView": "form",
        "id": "i7AEWmtp7UOM",
        "colab": {}
      },
      "source": [
        "#@title Automatic Variable Finding\n",
        "#@markdown This uses `opt.curve_fit()` to find the best fitting variables.\n",
        "\n",
        "(a_, b_, c_), _ = opt.curve_fit(logistic, x, y) #Finds the variablesthat fit best\n",
        "y_pred = logistic(x, a_, b_, c_) # this will put the array through the function along with the fitted variables\n",
        "\n",
        "\n",
        "plt.xlabel('Days since 1/3/2020')\n",
        "plt.ylabel('Number Infected')\n",
        "plt.title(\"Days vs Number Infected Fitted\")\n",
        "plt.plot(x, y, 'o') #This plots the known points as dots\n",
        "plt.plot(x, y_pred, '-') #this plots the predicted points as a line\n",
        "plt.text(np.max(x)+10, np.max(y)-150000, logistic_info(a_, b_, c_), verticalalignment='top') #this provides a helpful textbox for funtion information\n",
        "plt.show()\n",
        "\n",
        "print(\"R2 score of: %.7f\" % sklearn.metrics.r2_score(y, y_pred))\n",
        "print(\"Mean absolute error:  %.2f\" % sklearn.metrics.mean_absolute_error(y, y_pred))"
      ],
      "execution_count": null,
      "outputs": []
    },
    {
      "cell_type": "markdown",
      "metadata": {
        "id": "LG7cdDe-VOg7",
        "colab_type": "text"
      },
      "source": [
        "###Questions about Fitted Infection Function"
      ]
    },
    {
      "cell_type": "markdown",
      "metadata": {
        "id": "dydp7w7TwE4d",
        "colab_type": "text"
      },
      "source": [
        "**Using that fitted variable predict approximatley how many people will be diagnosed nationwide:**\n",
        "\n",
        "*You answer here*"
      ]
    },
    {
      "cell_type": "markdown",
      "metadata": {
        "id": "SA4fRemz2R5E",
        "colab_type": "text"
      },
      "source": [
        "**Can you predict when the infections will be within 10% of the upper limit:**\n",
        "\n",
        "*Your answer here*"
      ]
    },
    {
      "cell_type": "markdown",
      "metadata": {
        "id": "lYDAEFIAzAgW",
        "colab_type": "text"
      },
      "source": [
        "##Best Fit Curve Rate of Infection\n",
        "\n",
        "Find a solution with an $R^2$ greater than 0.9\n",
        "\n",
        "----\n",
        "\n",
        "The rate of infection can be modeled by a gaussian curve with the form: $ae^{-\\frac{x-\\mu}{4\\sigma}^2}$\n",
        "\n",
        "The rate of infections can not be tuned using `opt.fit()`. So you will need to try and adjust the variables on your own (or using math)\n",
        "\n",
        " \n",
        "*   **Amplitude**\n",
        "  *  This is represented by $a$ in the equation and `gauss_amp` in the code. It is also the y-value for the peak of the graph. \n",
        "*   **Mean**\n",
        "  *  Mean is represented by $\\mu$ in the equation, and `gauss_mean` in the code. It also happens to be the location of the peak of the equation\n",
        "*  **Standard Deviation**\n",
        "  *  Standard deviation is represented by $\\sigma$ in the equation and `gauss_std` in the code. The standard deviation determines the spread of the bell curve, the larger the number the wider the curve.\n",
        "----\n",
        "\n"
      ]
    },
    {
      "cell_type": "code",
      "metadata": {
        "id": "Y_5kIyXvrd3p",
        "colab_type": "code",
        "colab": {}
      },
      "source": [
        "x = ...\n",
        "y = ...\n",
        "\n",
        "#CHANGE THIS AND RUN IT BEFORE CONTINUING!!!!"
      ],
      "execution_count": null,
      "outputs": []
    },
    {
      "cell_type": "code",
      "metadata": {
        "id": "QLbU93e_245z",
        "colab_type": "code",
        "cellView": "form",
        "colab": {}
      },
      "source": [
        "#@title Fitting with variables\n",
        "#@markdown Fit using variables\n",
        "\n",
        "\n",
        "\n",
        "gauss_amp =  0#@param {type:\"number\"}\n",
        "gauss_mean =  0#@param {type:\"number\"}\n",
        "gauss_std =  0#@param {type:\"number\"}\n",
        "\n",
        "\n",
        "#edit the above\n",
        "\n",
        "\n",
        "\n",
        "y_pred = gauss(x, gauss_amp, gauss_mean, gauss_std) # this will put the array through the function along with the fitted variables\n",
        "\n",
        "\n",
        "plt.xlabel('Days since 1/3/2020')\n",
        "plt.ylabel('Number Infected')\n",
        "plt.title(\"Days vs Rate of Infection Fitted\")\n",
        "plt.plot(x, y, 'o') #This plots the known points as dots\n",
        "plt.plot(x, y_pred, '-') #this plots the predicted points as a line\n",
        "plt.text(np.max(x)+10, np.max(y), gauss_info(gauss_amp, gauss_mean, gauss_std), verticalalignment='top') #this provides a helpful textbox for funtion information\n",
        "plt.show()\n",
        "\n",
        "print(\"R2 score of: %.7f\" % sklearn.metrics.r2_score(y, y_pred))\n",
        "print(\"Mean absolute error:  %.2f\" % sklearn.metrics.mean_absolute_error(y, y_pred))"
      ],
      "execution_count": null,
      "outputs": []
    },
    {
      "cell_type": "code",
      "metadata": {
        "id": "KsHO6QfKoAyC",
        "colab_type": "code",
        "cellView": "form",
        "colab": {}
      },
      "source": [
        "#@title Interactive Fitting\n",
        "#@markdown This will help you fit the curve with an adgustable slider\n",
        "\n",
        "\n",
        "def interactive(a,b,c):\n",
        "  gauss_amp = a\n",
        "  gauss_mean = b\n",
        "  gauss_std = c\n",
        "  \n",
        "  y_pred = gauss(x, gauss_amp, gauss_mean, gauss_std) # this will put the array through the function along with the fitted variables\n",
        "\n",
        "\n",
        "  plt.xlabel('Days since 1/3/2020')\n",
        "  plt.ylabel('Number Infected')\n",
        "  plt.title(\"Days vs Rate of Infection Fitted\")\n",
        "  plt.plot(x, y, 'o') #This plots the known points as dots\n",
        "  plt.plot(x, y_pred, '-') #this plots the predicted points as a line\n",
        "  plt.text(np.max(x)+10, np.max(y), gauss_info(gauss_amp, gauss_mean, gauss_std), verticalalignment='top') #this provides a helpful textbox for funtion information\n",
        "  plt.show()\n",
        "\n",
        "  print(\"R2 score of: %.7f\" % sklearn.metrics.r2_score(y, y_pred))\n",
        "  print(\"Mean absolute error:  %.2f\" % sklearn.metrics.mean_absolute_error(y, y_pred))\n",
        "\n",
        "interact(interactive, a=(30000,40000), b=(60,100, 0.5), c=(0,7,0.1))"
      ],
      "execution_count": null,
      "outputs": []
    },
    {
      "cell_type": "markdown",
      "metadata": {
        "id": "uX_DSjPmVbX6",
        "colab_type": "text"
      },
      "source": [
        "####Possible solution\n",
        "*Open this block for a potential solution.*"
      ]
    },
    {
      "cell_type": "markdown",
      "metadata": {
        "id": "WtrKCUxxV7f7",
        "colab_type": "text"
      },
      "source": [
        "\n",
        "Variables set to:\n",
        "```\n",
        "gauss_amp = 36000\n",
        "gauss_mean = 77\n",
        "gauss_std = 3.3\n",
        "```\n",
        "On April 18th this had:\n",
        "\n",
        "```\n",
        "R2 score of: 0.9618715\n",
        "Mean absolute error:  1035.88\n",
        "```\n"
      ]
    },
    {
      "cell_type": "markdown",
      "metadata": {
        "id": "Si2A3NAXVXKU",
        "colab_type": "text"
      },
      "source": [
        "###Questions about Fitted Function"
      ]
    },
    {
      "cell_type": "markdown",
      "metadata": {
        "id": "PzJoyzWqXWza",
        "colab_type": "text"
      },
      "source": [
        "**When will there be less than 10,000 new reported cases:**\n",
        "\n",
        "*First calculate how many days, then put the number of days into the code block below to see a date*"
      ]
    },
    {
      "cell_type": "code",
      "metadata": {
        "id": "Ef6RNIl7Y5cw",
        "colab_type": "code",
        "cellView": "form",
        "colab": {}
      },
      "source": [
        "days_since =  0#@param {type:\"integer\"}\n",
        "\n",
        "intial_date = date(2020, 1, 3)\n",
        "new_date = intial_date + timedelta(days=days_since)\n",
        "\n",
        "print(\"There will be less than 10,000 new reported cases on: \", new_date)\n"
      ],
      "execution_count": null,
      "outputs": []
    },
    {
      "cell_type": "markdown",
      "metadata": {
        "id": "l54_RnOBeka4",
        "colab_type": "text"
      },
      "source": [
        "**When will 90% of cases be reported:**\n",
        "\n",
        "*Your answer here*"
      ]
    },
    {
      "cell_type": "markdown",
      "metadata": {
        "id": "alAd5D-a_Qb4",
        "colab_type": "text"
      },
      "source": [
        "**When is the peak:**\n",
        "\n",
        "*Your answer here*"
      ]
    },
    {
      "cell_type": "markdown",
      "metadata": {
        "id": "rY43Lv5s_Urj",
        "colab_type": "text"
      },
      "source": [
        "#Fitting Death statistics\n",
        "\n",
        "The next section uses the death statistics, if you feel uncomfortable with the topic there is **no obligation** to continue. \n",
        "\n",
        "If you would like to continue, please check the box below and open the blocks."
      ]
    },
    {
      "cell_type": "code",
      "metadata": {
        "id": "eZ73kM3Gdq_4",
        "colab_type": "code",
        "cellView": "form",
        "colab": {}
      },
      "source": [
        "I_Am_Continuing = False #@param {type:\"boolean\"}\n",
        "\n",
        "#@markdown There is no need to run this, simply sheck the box so we can know wheter or not to grade this section"
      ],
      "execution_count": null,
      "outputs": []
    },
    {
      "cell_type": "markdown",
      "metadata": {
        "id": "9Ym3blBQbf7i",
        "colab_type": "text"
      },
      "source": [
        "##Best Fit Curve Number of Deaths\n",
        "\n",
        "Much like the number of cases, the number of deaths to a logistic function."
      ]
    },
    {
      "cell_type": "code",
      "metadata": {
        "id": "Nehss-AX892z",
        "colab_type": "code",
        "colab": {}
      },
      "source": [
        "x = ...\n",
        "y = ..."
      ],
      "execution_count": null,
      "outputs": []
    },
    {
      "cell_type": "code",
      "metadata": {
        "colab_type": "code",
        "cellView": "form",
        "id": "u6UX_wlV81Ep",
        "colab": {}
      },
      "source": [
        "#@title Manual Variable Finding\n",
        "#@markdown *Try manually finding variables before using the automatic solver*\n",
        "\n",
        "a =   0#@param {type:\"number\"}\n",
        "b =  0#@param {type:\"number\"}\n",
        "c =   0#@param {type:\"number\"}\n",
        "\n",
        "y_pred = logistic(x, a, b, c) # this will put the array through the function along with the fitted variables\n",
        "\n",
        "\n",
        "plt.xlabel('Days since 1/3/2020')\n",
        "plt.ylabel('Number Dead')\n",
        "plt.title(\"Days vs Number Dead Fitted\")\n",
        "plt.plot(x, y, 'o') #This plots the known points as dots\n",
        "plt.plot(x, y_pred, '-') #this plots the predicted points as a line\n",
        "plt.text(np.max(x)+10, np.max(y)-1500, logistic_info(a, b, c_), verticalalignment='top') #this provides a helpful textbox for funtion information\n",
        "plt.show()\n",
        "\n",
        "print(\"R2 score of: %.7f\" % sklearn.metrics.r2_score(y, y_pred))\n",
        "print(\"Mean absolute error:  %.2f\" % sklearn.metrics.mean_absolute_error(y, y_pred))"
      ],
      "execution_count": null,
      "outputs": []
    },
    {
      "cell_type": "code",
      "metadata": {
        "id": "lmXMhXlz_fCz",
        "colab_type": "code",
        "cellView": "form",
        "colab": {}
      },
      "source": [
        "#@title Interactive Variable Finding\n",
        "#@markdown *This launches an interactive pywidget.*\n",
        "\n",
        "\n",
        "def interactive(a,b,c):\n",
        "  y_pred = logistic(x, a, b, c) # this will put the array through the function along with the fitted variables\n",
        "\n",
        "  plt.xlabel('Days since 1/3/2020')\n",
        "  plt.ylabel('Number Dead')\n",
        "  plt.title(\"Days vs Number Dead Fitted\")\n",
        "  plt.plot(x, y, 'o') #This plots the known points as dots\n",
        "  plt.plot(x, y_pred, '-') #this plots the predicted points as a line\n",
        "  plt.text(np.max(x)+10, np.max(y)-1500, logistic_info(a, b, c_), verticalalignment='top') #this provides a helpful textbox for funtion information\n",
        "  plt.show()\n",
        "\n",
        "  print(\"R2 score of: %.7f\" % sklearn.metrics.r2_score(y, y_pred))\n",
        "  print(\"Mean absolute error:  %.2f\" % sklearn.metrics.mean_absolute_error(y, y_pred))\n",
        "\n",
        "interact(interactive, a=(30000, 50000), b=(0,1, 0.0001), c=(50, 100))"
      ],
      "execution_count": null,
      "outputs": []
    },
    {
      "cell_type": "code",
      "metadata": {
        "id": "CPuQCKNVbIX-",
        "colab_type": "code",
        "cellView": "form",
        "colab": {}
      },
      "source": [
        "#@title Automatic Variable Finding\n",
        "#@markdown This uses `opt.curve_fit()` to find the best fitting variables.\n",
        "\n",
        "\n",
        "(a_, b_, c_), _ = opt.curve_fit(logistic, x, y) \n",
        "y_pred = logistic(x, a_, b_, c_) # this will put the array through the function along with the fitted variables\n",
        "\n",
        "\n",
        "plt.xlabel('Days since 1/3/2020')\n",
        "plt.ylabel('Number Dead')\n",
        "plt.title(\"Days vs Number Dead Fitted\")\n",
        "plt.plot(x, y, 'o') #This plots the known points as dots\n",
        "plt.plot(x, y_pred, '-') #this plots the predicted points as a line\n",
        "plt.text(np.max(x)+10, np.max(y)-1500, logistic_info(a_, b_, c_), verticalalignment='top') #this provides a helpful textbox for funtion information\n",
        "plt.show()\n",
        "\n",
        "print(\"R2 score of: %.7f\" % sklearn.metrics.r2_score(y, y_pred))\n",
        "print(\"Mean absolute error:  %.2f\" % sklearn.metrics.mean_absolute_error(y, y_pred))"
      ],
      "execution_count": null,
      "outputs": []
    },
    {
      "cell_type": "markdown",
      "metadata": {
        "id": "FL2AQ9pOmJ-z",
        "colab_type": "text"
      },
      "source": [
        "**How many people are predicted to die according to the equation:**\n",
        "\n",
        "*Your answer here*"
      ]
    },
    {
      "cell_type": "markdown",
      "metadata": {
        "id": "qKAiMKkZxzON",
        "colab_type": "text"
      },
      "source": [
        "**Using the equation you found for number Infected, what percent of individuals recover:**\n",
        "\n",
        "*Your answer here*"
      ]
    },
    {
      "cell_type": "markdown",
      "metadata": {
        "id": "B3D9YzKucP0V",
        "colab_type": "text"
      },
      "source": [
        "##Best Fit Curve Rate of Deaths\n",
        "\n",
        "Find a solution with an $R^2$ greater than 0.9\n",
        "\n",
        "Edit the code block below to define an x and y variable for the equation"
      ]
    },
    {
      "cell_type": "code",
      "metadata": {
        "id": "PS49YFBJqxWI",
        "colab_type": "code",
        "colab": {}
      },
      "source": [
        "x = ...\n",
        "y = ..."
      ],
      "execution_count": null,
      "outputs": []
    },
    {
      "cell_type": "code",
      "metadata": {
        "id": "Mu9ishiUcjpX",
        "colab_type": "code",
        "cellView": "form",
        "colab": {}
      },
      "source": [
        "#@title Fitting with numbers\n",
        "#@markdown Use this cell to add \n",
        "\n",
        "gauss_amp =  0#@param {type:\"number\"}\n",
        "gauss_mean =  0#@param {type:\"number\"}\n",
        "gauss_std =  0#@param {type:\"number\"}\n",
        "\n",
        "\n",
        "#edit the above\n",
        "\n",
        "def gauss(x, amplitude, mean, stddev):\n",
        "    return amplitude * np.exp(-((x - mean) / 4 / stddev)**2)\n",
        "\n",
        "\n",
        "y_pred = gauss(x, gauss_amp, gauss_mean, gauss_std) # this will put the array through the function along with the fitted variables\n",
        "\n",
        "\n",
        "plt.xlabel('Days since 1/3/2020')\n",
        "plt.ylabel('New Deaths')\n",
        "plt.title(\"Days vs New Deaths Fitted\")\n",
        "plt.plot(x, y, 'o') #This plots the known points as dots\n",
        "plt.plot(x, y_pred, '-') #this plots the predicted points as a line\n",
        "plt.text(np.max(x)+10, np.max(y), gauss_info(gauss_amp, gauss_mean, gauss_std), verticalalignment='top') #this provides a helpful textbox for funtion information\n",
        "plt.show()\n",
        "\n",
        "print(\"R2 score of: %.7f\" % sklearn.metrics.r2_score(y, y_pred))\n",
        "print(\"Mean absolute error:  %.2f\" % sklearn.metrics.mean_absolute_error(y, y_pred))"
      ],
      "execution_count": null,
      "outputs": []
    },
    {
      "cell_type": "code",
      "metadata": {
        "colab_type": "code",
        "id": "xtqIrW8cqqFG",
        "cellView": "form",
        "colab": {}
      },
      "source": [
        "#@title Interactive Fitting\n",
        "#@markdown Use this cell block to fit the curve to the data.\n",
        "def interactive(a,b,c):\n",
        "  gauss_amp = a\n",
        "  gauss_mean = b\n",
        "  gauss_std = c\n",
        "\n",
        "  y_pred = gauss(x, gauss_amp, gauss_mean, gauss_std) # this will put the array through the function along with the fitted variables\n",
        "\n",
        "  plt.xlabel('Days since 1/3/2020')\n",
        "  plt.ylabel('New Deaths')\n",
        "  plt.title(\"Days vs New Deaths Fitted\")\n",
        "  plt.plot(x, y, 'o') #This plots the known points as dots\n",
        "  plt.plot(x, y_pred, '-') #this plots the predicted points as a line\n",
        "  plt.text(np.max(x)+10, np.max(y), gauss_info(gauss_amp, gauss_mean, gauss_std), verticalalignment='top') #this provides a helpful textbox for funtion information\n",
        "  plt.show()\n",
        "\n",
        "  print(\"R2 score of: %.7f\" % sklearn.metrics.r2_score(y, y_pred))\n",
        "  print(\"Mean absolute error:  %.2f\" % sklearn.metrics.mean_absolute_error(y, y_pred))\n",
        "\n",
        "\n",
        "interact(interactive, a=(2000,3000), b=(60,100), c=(0,7, 0.1))"
      ],
      "execution_count": null,
      "outputs": []
    },
    {
      "cell_type": "markdown",
      "metadata": {
        "colab_type": "text",
        "id": "GT4n9domkY-W"
      },
      "source": [
        "####Possible solution\n",
        "*Open this block for a potential solution.*"
      ]
    },
    {
      "cell_type": "markdown",
      "metadata": {
        "colab_type": "text",
        "id": "myJkBnGTkY-b"
      },
      "source": [
        "\n",
        "Variables set to:\n",
        "```\n",
        "gauss_amp = 2500\n",
        "gauss_mean = 87\n",
        "gauss_std = 3.9\n",
        "```\n",
        "On April 18th this had:\n",
        "\n",
        "```\n",
        "R2 score of: 0.9517000\n",
        "Mean absolute error:  59.69\n",
        "```\n"
      ]
    },
    {
      "cell_type": "markdown",
      "metadata": {
        "id": "6L5YRrDamB9M",
        "colab_type": "text"
      },
      "source": [
        "###Questions about Rate of Deaths"
      ]
    },
    {
      "cell_type": "markdown",
      "metadata": {
        "id": "XLakx0StdE4f",
        "colab_type": "text"
      },
      "source": [
        "**Using the mean you found in the rate of reported infections and the one above. Can you predict how long after being diagnosed a patient is recovering or critical?**\n",
        "\n",
        "*Your answer here*"
      ]
    },
    {
      "cell_type": "markdown",
      "metadata": {
        "id": "pjqTOW_qziGH",
        "colab_type": "text"
      },
      "source": [
        "**When is the peak:**\n",
        "\n",
        "*Your answer here*"
      ]
    },
    {
      "cell_type": "markdown",
      "metadata": {
        "id": "ftfoIqhnj9Mm",
        "colab_type": "text"
      },
      "source": [
        "#Afterwards\n",
        "\n",
        "These are once again completley optional questions."
      ]
    },
    {
      "cell_type": "markdown",
      "metadata": {
        "id": "5AIBsJH50KeB",
        "colab_type": "text"
      },
      "source": [
        "**What errors or assumptions were made:**\n",
        "\n",
        "*Your answer here*"
      ]
    },
    {
      "cell_type": "markdown",
      "metadata": {
        "id": "M8iVc7owkEqA",
        "colab_type": "text"
      },
      "source": [
        "**Do you feel that analyzing the data has given you a new understanding of the current state of affairs?**\n",
        "\n",
        "*Your answer here*"
      ]
    }
  ]
}